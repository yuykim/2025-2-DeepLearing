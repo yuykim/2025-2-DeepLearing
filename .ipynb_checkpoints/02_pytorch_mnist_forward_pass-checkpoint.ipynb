{
 "cells": [
  {
   "cell_type": "code",
   "execution_count": 2,
   "id": "a5e2ebc3-505c-4372-906b-12318ea98798",
   "metadata": {},
   "outputs": [],
   "source": [
    "import torch\n",
    "from torchvision import datasets, transforms\n",
    "import numpy as np\n",
    "import matplotlib.pyplot as plt"
   ]
  },
  {
   "cell_type": "code",
   "execution_count": 3,
   "id": "95ce1c66-f3ed-43df-a92e-4c243c708719",
   "metadata": {},
   "outputs": [
    {
     "data": {
      "text/plain": [
       "'2.6.0+cu124'"
      ]
     },
     "execution_count": 3,
     "metadata": {},
     "output_type": "execute_result"
    }
   ],
   "source": [
    "torch.__version__"
   ]
  },
  {
   "cell_type": "code",
   "execution_count": 4,
   "id": "a44c0202-1ee2-4f81-8c53-3d2d75016614",
   "metadata": {},
   "outputs": [
    {
     "data": {
      "text/plain": [
       "'2.0.1'"
      ]
     },
     "execution_count": 4,
     "metadata": {},
     "output_type": "execute_result"
    }
   ],
   "source": [
    "np.__version__"
   ]
  },
  {
   "cell_type": "code",
   "execution_count": 5,
   "id": "d369be27-561b-4cbb-a808-b4327f06e7d3",
   "metadata": {},
   "outputs": [
    {
     "data": {
      "text/plain": [
       "<torch._C.Generator at 0x22d756cec70>"
      ]
     },
     "execution_count": 5,
     "metadata": {},
     "output_type": "execute_result"
    }
   ],
   "source": [
    "torch.manual_seed(316)"
   ]
  },
  {
   "cell_type": "markdown",
   "id": "7f576b27-86be-41b6-ac4c-a6d4ccb3c242",
   "metadata": {},
   "source": [
    "---"
   ]
  },
  {
   "cell_type": "code",
   "execution_count": 6,
   "id": "3da6c50b-c996-46cf-8cbe-e5805fbb3367",
   "metadata": {},
   "outputs": [],
   "source": [
    "transform = transforms.Compose(\n",
    "    [\n",
    "        # 이미지를 불러와서\n",
    "        transforms.ToTensor(),\n",
    "        # 정형화\n",
    "        transforms.Normalize((0.5,), (0.5,)),\n",
    "    ]\n",
    ")"
   ]
  },
  {
   "cell_type": "code",
   "execution_count": 7,
   "id": "1d07a34f-838d-4c1c-ba34-e62443a16ca5",
   "metadata": {},
   "outputs": [],
   "source": [
    "trainset = datasets.MNIST('.', download=True, train=True, transform=transform)"
   ]
  },
  {
   "cell_type": "code",
   "execution_count": 8,
   "id": "09b4aab4-0590-49b1-8402-adf33f18e273",
   "metadata": {},
   "outputs": [
    {
     "data": {
      "text/plain": [
       "60000"
      ]
     },
     "execution_count": 8,
     "metadata": {},
     "output_type": "execute_result"
    }
   ],
   "source": [
    "len(trainset)"
   ]
  },
  {
   "cell_type": "code",
   "execution_count": 9,
   "id": "17ac0824-f46a-43f5-b193-d7873c860f30",
   "metadata": {},
   "outputs": [],
   "source": [
    "batch_size = 64\n",
    "trainloder=torch.utils.data.DataLoader(\n",
    "    trainset,\n",
    "    batch_size=batch_size,\n",
    "    shuffle=True\n",
    ")"
   ]
  },
  {
   "cell_type": "markdown",
   "id": "242df9eb-ee49-4009-b54c-1afa90c02d68",
   "metadata": {},
   "source": [
    "---"
   ]
  },
  {
   "cell_type": "markdown",
   "id": "31c63676-5982-4755-9b3c-b382861f4a7f",
   "metadata": {},
   "source": [
    "### Explore Data"
   ]
  },
  {
   "cell_type": "code",
   "execution_count": 10,
   "id": "39384027-6a4f-418d-8069-619531344bd4",
   "metadata": {},
   "outputs": [],
   "source": [
    "images, labels = next(iter(trainloder))"
   ]
  },
  {
   "cell_type": "code",
   "execution_count": 11,
   "id": "e8abe5c8-de73-42dd-bb83-95926051e73f",
   "metadata": {},
   "outputs": [
    {
     "name": "stdout",
     "output_type": "stream",
     "text": [
      "<class 'torch.Tensor'>\n",
      "torch.Size([64, 1, 28, 28])\n"
     ]
    }
   ],
   "source": [
    "print(type(images))\n",
    "print(images.shape)\n",
    "# torch.Size([minibatch size, channel, (width x height)])"
   ]
  },
  {
   "cell_type": "code",
   "execution_count": 12,
   "id": "4fbeb948-0fcf-4054-9c35-0e87040bb37e",
   "metadata": {},
   "outputs": [],
   "source": [
    "image1 = images[0]"
   ]
  },
  {
   "cell_type": "code",
   "execution_count": 13,
   "id": "94ba0ee9-0a13-41f4-80fe-69d8248e8779",
   "metadata": {},
   "outputs": [],
   "source": [
    "image2 = images[1]"
   ]
  },
  {
   "cell_type": "code",
   "execution_count": 14,
   "id": "775f9d0d-e4f1-4675-9585-7da3b363346b",
   "metadata": {},
   "outputs": [
    {
     "data": {
      "text/plain": [
       "torch.Size([1, 28, 28])"
      ]
     },
     "execution_count": 14,
     "metadata": {},
     "output_type": "execute_result"
    }
   ],
   "source": [
    "# channel * width * height\n",
    "image1.shape"
   ]
  },
  {
   "cell_type": "code",
   "execution_count": 15,
   "id": "608e4788-bd13-4596-81a4-a7ea07f426fa",
   "metadata": {},
   "outputs": [
    {
     "ename": "TypeError",
     "evalue": "Invalid shape (1, 28, 28) for image data",
     "output_type": "error",
     "traceback": [
      "\u001b[1;31m---------------------------------------------------------------------------\u001b[0m",
      "\u001b[1;31mTypeError\u001b[0m                                 Traceback (most recent call last)",
      "Cell \u001b[1;32mIn[15], line 2\u001b[0m\n\u001b[0;32m      1\u001b[0m \u001b[38;5;66;03m# won't work due to invalid shape. expecting 28x28\u001b[39;00m\n\u001b[1;32m----> 2\u001b[0m \u001b[43mplt\u001b[49m\u001b[38;5;241;43m.\u001b[39;49m\u001b[43mimshow\u001b[49m\u001b[43m(\u001b[49m\u001b[43mimage1\u001b[49m\u001b[43m)\u001b[49m\n",
      "File \u001b[1;32m~\\miniconda3\\envs\\deeplearning\\lib\\site-packages\\matplotlib\\pyplot.py:3601\u001b[0m, in \u001b[0;36mimshow\u001b[1;34m(X, cmap, norm, aspect, interpolation, alpha, vmin, vmax, colorizer, origin, extent, interpolation_stage, filternorm, filterrad, resample, url, data, **kwargs)\u001b[0m\n\u001b[0;32m   3579\u001b[0m \u001b[38;5;129m@_copy_docstring_and_deprecators\u001b[39m(Axes\u001b[38;5;241m.\u001b[39mimshow)\n\u001b[0;32m   3580\u001b[0m \u001b[38;5;28;01mdef\u001b[39;00m\u001b[38;5;250m \u001b[39m\u001b[38;5;21mimshow\u001b[39m(\n\u001b[0;32m   3581\u001b[0m     X: ArrayLike \u001b[38;5;241m|\u001b[39m PIL\u001b[38;5;241m.\u001b[39mImage\u001b[38;5;241m.\u001b[39mImage,\n\u001b[1;32m   (...)\u001b[0m\n\u001b[0;32m   3599\u001b[0m     \u001b[38;5;241m*\u001b[39m\u001b[38;5;241m*\u001b[39mkwargs,\n\u001b[0;32m   3600\u001b[0m ) \u001b[38;5;241m-\u001b[39m\u001b[38;5;241m>\u001b[39m AxesImage:\n\u001b[1;32m-> 3601\u001b[0m     __ret \u001b[38;5;241m=\u001b[39m gca()\u001b[38;5;241m.\u001b[39mimshow(\n\u001b[0;32m   3602\u001b[0m         X,\n\u001b[0;32m   3603\u001b[0m         cmap\u001b[38;5;241m=\u001b[39mcmap,\n\u001b[0;32m   3604\u001b[0m         norm\u001b[38;5;241m=\u001b[39mnorm,\n\u001b[0;32m   3605\u001b[0m         aspect\u001b[38;5;241m=\u001b[39maspect,\n\u001b[0;32m   3606\u001b[0m         interpolation\u001b[38;5;241m=\u001b[39minterpolation,\n\u001b[0;32m   3607\u001b[0m         alpha\u001b[38;5;241m=\u001b[39malpha,\n\u001b[0;32m   3608\u001b[0m         vmin\u001b[38;5;241m=\u001b[39mvmin,\n\u001b[0;32m   3609\u001b[0m         vmax\u001b[38;5;241m=\u001b[39mvmax,\n\u001b[0;32m   3610\u001b[0m         colorizer\u001b[38;5;241m=\u001b[39mcolorizer,\n\u001b[0;32m   3611\u001b[0m         origin\u001b[38;5;241m=\u001b[39morigin,\n\u001b[0;32m   3612\u001b[0m         extent\u001b[38;5;241m=\u001b[39mextent,\n\u001b[0;32m   3613\u001b[0m         interpolation_stage\u001b[38;5;241m=\u001b[39minterpolation_stage,\n\u001b[0;32m   3614\u001b[0m         filternorm\u001b[38;5;241m=\u001b[39mfilternorm,\n\u001b[0;32m   3615\u001b[0m         filterrad\u001b[38;5;241m=\u001b[39mfilterrad,\n\u001b[0;32m   3616\u001b[0m         resample\u001b[38;5;241m=\u001b[39mresample,\n\u001b[0;32m   3617\u001b[0m         url\u001b[38;5;241m=\u001b[39murl,\n\u001b[0;32m   3618\u001b[0m         \u001b[38;5;241m*\u001b[39m\u001b[38;5;241m*\u001b[39m({\u001b[38;5;124m\"\u001b[39m\u001b[38;5;124mdata\u001b[39m\u001b[38;5;124m\"\u001b[39m: data} \u001b[38;5;28;01mif\u001b[39;00m data \u001b[38;5;129;01mis\u001b[39;00m \u001b[38;5;129;01mnot\u001b[39;00m \u001b[38;5;28;01mNone\u001b[39;00m \u001b[38;5;28;01melse\u001b[39;00m {}),\n\u001b[0;32m   3619\u001b[0m         \u001b[38;5;241m*\u001b[39m\u001b[38;5;241m*\u001b[39mkwargs,\n\u001b[0;32m   3620\u001b[0m     )\n\u001b[0;32m   3621\u001b[0m     sci(__ret)\n\u001b[0;32m   3622\u001b[0m     \u001b[38;5;28;01mreturn\u001b[39;00m __ret\n",
      "File \u001b[1;32m~\\miniconda3\\envs\\deeplearning\\lib\\site-packages\\matplotlib\\__init__.py:1524\u001b[0m, in \u001b[0;36m_preprocess_data.<locals>.inner\u001b[1;34m(ax, data, *args, **kwargs)\u001b[0m\n\u001b[0;32m   1521\u001b[0m \u001b[38;5;129m@functools\u001b[39m\u001b[38;5;241m.\u001b[39mwraps(func)\n\u001b[0;32m   1522\u001b[0m \u001b[38;5;28;01mdef\u001b[39;00m\u001b[38;5;250m \u001b[39m\u001b[38;5;21minner\u001b[39m(ax, \u001b[38;5;241m*\u001b[39margs, data\u001b[38;5;241m=\u001b[39m\u001b[38;5;28;01mNone\u001b[39;00m, \u001b[38;5;241m*\u001b[39m\u001b[38;5;241m*\u001b[39mkwargs):\n\u001b[0;32m   1523\u001b[0m     \u001b[38;5;28;01mif\u001b[39;00m data \u001b[38;5;129;01mis\u001b[39;00m \u001b[38;5;28;01mNone\u001b[39;00m:\n\u001b[1;32m-> 1524\u001b[0m         \u001b[38;5;28;01mreturn\u001b[39;00m func(\n\u001b[0;32m   1525\u001b[0m             ax,\n\u001b[0;32m   1526\u001b[0m             \u001b[38;5;241m*\u001b[39m\u001b[38;5;28mmap\u001b[39m(cbook\u001b[38;5;241m.\u001b[39msanitize_sequence, args),\n\u001b[0;32m   1527\u001b[0m             \u001b[38;5;241m*\u001b[39m\u001b[38;5;241m*\u001b[39m{k: cbook\u001b[38;5;241m.\u001b[39msanitize_sequence(v) \u001b[38;5;28;01mfor\u001b[39;00m k, v \u001b[38;5;129;01min\u001b[39;00m kwargs\u001b[38;5;241m.\u001b[39mitems()})\n\u001b[0;32m   1529\u001b[0m     bound \u001b[38;5;241m=\u001b[39m new_sig\u001b[38;5;241m.\u001b[39mbind(ax, \u001b[38;5;241m*\u001b[39margs, \u001b[38;5;241m*\u001b[39m\u001b[38;5;241m*\u001b[39mkwargs)\n\u001b[0;32m   1530\u001b[0m     auto_label \u001b[38;5;241m=\u001b[39m (bound\u001b[38;5;241m.\u001b[39marguments\u001b[38;5;241m.\u001b[39mget(label_namer)\n\u001b[0;32m   1531\u001b[0m                   \u001b[38;5;129;01mor\u001b[39;00m bound\u001b[38;5;241m.\u001b[39mkwargs\u001b[38;5;241m.\u001b[39mget(label_namer))\n",
      "File \u001b[1;32m~\\miniconda3\\envs\\deeplearning\\lib\\site-packages\\matplotlib\\axes\\_axes.py:5982\u001b[0m, in \u001b[0;36mAxes.imshow\u001b[1;34m(self, X, cmap, norm, aspect, interpolation, alpha, vmin, vmax, colorizer, origin, extent, interpolation_stage, filternorm, filterrad, resample, url, **kwargs)\u001b[0m\n\u001b[0;32m   5979\u001b[0m \u001b[38;5;28;01mif\u001b[39;00m aspect \u001b[38;5;129;01mis\u001b[39;00m \u001b[38;5;129;01mnot\u001b[39;00m \u001b[38;5;28;01mNone\u001b[39;00m:\n\u001b[0;32m   5980\u001b[0m     \u001b[38;5;28mself\u001b[39m\u001b[38;5;241m.\u001b[39mset_aspect(aspect)\n\u001b[1;32m-> 5982\u001b[0m \u001b[43mim\u001b[49m\u001b[38;5;241;43m.\u001b[39;49m\u001b[43mset_data\u001b[49m\u001b[43m(\u001b[49m\u001b[43mX\u001b[49m\u001b[43m)\u001b[49m\n\u001b[0;32m   5983\u001b[0m im\u001b[38;5;241m.\u001b[39mset_alpha(alpha)\n\u001b[0;32m   5984\u001b[0m \u001b[38;5;28;01mif\u001b[39;00m im\u001b[38;5;241m.\u001b[39mget_clip_path() \u001b[38;5;129;01mis\u001b[39;00m \u001b[38;5;28;01mNone\u001b[39;00m:\n\u001b[0;32m   5985\u001b[0m     \u001b[38;5;66;03m# image does not already have clipping set, clip to Axes patch\u001b[39;00m\n",
      "File \u001b[1;32m~\\miniconda3\\envs\\deeplearning\\lib\\site-packages\\matplotlib\\image.py:685\u001b[0m, in \u001b[0;36m_ImageBase.set_data\u001b[1;34m(self, A)\u001b[0m\n\u001b[0;32m    683\u001b[0m \u001b[38;5;28;01mif\u001b[39;00m \u001b[38;5;28misinstance\u001b[39m(A, PIL\u001b[38;5;241m.\u001b[39mImage\u001b[38;5;241m.\u001b[39mImage):\n\u001b[0;32m    684\u001b[0m     A \u001b[38;5;241m=\u001b[39m pil_to_array(A)  \u001b[38;5;66;03m# Needed e.g. to apply png palette.\u001b[39;00m\n\u001b[1;32m--> 685\u001b[0m \u001b[38;5;28mself\u001b[39m\u001b[38;5;241m.\u001b[39m_A \u001b[38;5;241m=\u001b[39m \u001b[38;5;28;43mself\u001b[39;49m\u001b[38;5;241;43m.\u001b[39;49m\u001b[43m_normalize_image_array\u001b[49m\u001b[43m(\u001b[49m\u001b[43mA\u001b[49m\u001b[43m)\u001b[49m\n\u001b[0;32m    686\u001b[0m \u001b[38;5;28mself\u001b[39m\u001b[38;5;241m.\u001b[39m_imcache \u001b[38;5;241m=\u001b[39m \u001b[38;5;28;01mNone\u001b[39;00m\n\u001b[0;32m    687\u001b[0m \u001b[38;5;28mself\u001b[39m\u001b[38;5;241m.\u001b[39mstale \u001b[38;5;241m=\u001b[39m \u001b[38;5;28;01mTrue\u001b[39;00m\n",
      "File \u001b[1;32m~\\miniconda3\\envs\\deeplearning\\lib\\site-packages\\matplotlib\\image.py:653\u001b[0m, in \u001b[0;36m_ImageBase._normalize_image_array\u001b[1;34m(A)\u001b[0m\n\u001b[0;32m    651\u001b[0m     A \u001b[38;5;241m=\u001b[39m A\u001b[38;5;241m.\u001b[39msqueeze(\u001b[38;5;241m-\u001b[39m\u001b[38;5;241m1\u001b[39m)  \u001b[38;5;66;03m# If just (M, N, 1), assume scalar and apply colormap.\u001b[39;00m\n\u001b[0;32m    652\u001b[0m \u001b[38;5;28;01mif\u001b[39;00m \u001b[38;5;129;01mnot\u001b[39;00m (A\u001b[38;5;241m.\u001b[39mndim \u001b[38;5;241m==\u001b[39m \u001b[38;5;241m2\u001b[39m \u001b[38;5;129;01mor\u001b[39;00m A\u001b[38;5;241m.\u001b[39mndim \u001b[38;5;241m==\u001b[39m \u001b[38;5;241m3\u001b[39m \u001b[38;5;129;01mand\u001b[39;00m A\u001b[38;5;241m.\u001b[39mshape[\u001b[38;5;241m-\u001b[39m\u001b[38;5;241m1\u001b[39m] \u001b[38;5;129;01min\u001b[39;00m [\u001b[38;5;241m3\u001b[39m, \u001b[38;5;241m4\u001b[39m]):\n\u001b[1;32m--> 653\u001b[0m     \u001b[38;5;28;01mraise\u001b[39;00m \u001b[38;5;167;01mTypeError\u001b[39;00m(\u001b[38;5;124mf\u001b[39m\u001b[38;5;124m\"\u001b[39m\u001b[38;5;124mInvalid shape \u001b[39m\u001b[38;5;132;01m{\u001b[39;00mA\u001b[38;5;241m.\u001b[39mshape\u001b[38;5;132;01m}\u001b[39;00m\u001b[38;5;124m for image data\u001b[39m\u001b[38;5;124m\"\u001b[39m)\n\u001b[0;32m    654\u001b[0m \u001b[38;5;28;01mif\u001b[39;00m A\u001b[38;5;241m.\u001b[39mndim \u001b[38;5;241m==\u001b[39m \u001b[38;5;241m3\u001b[39m:\n\u001b[0;32m    655\u001b[0m     \u001b[38;5;66;03m# If the input data has values outside the valid range (after\u001b[39;00m\n\u001b[0;32m    656\u001b[0m     \u001b[38;5;66;03m# normalisation), we issue a warning and then clip X to the bounds\u001b[39;00m\n\u001b[0;32m    657\u001b[0m     \u001b[38;5;66;03m# - otherwise casting wraps extreme values, hiding outliers and\u001b[39;00m\n\u001b[0;32m    658\u001b[0m     \u001b[38;5;66;03m# making reliable interpretation impossible.\u001b[39;00m\n\u001b[0;32m    659\u001b[0m     high \u001b[38;5;241m=\u001b[39m \u001b[38;5;241m255\u001b[39m \u001b[38;5;28;01mif\u001b[39;00m np\u001b[38;5;241m.\u001b[39missubdtype(A\u001b[38;5;241m.\u001b[39mdtype, np\u001b[38;5;241m.\u001b[39minteger) \u001b[38;5;28;01melse\u001b[39;00m \u001b[38;5;241m1\u001b[39m\n",
      "\u001b[1;31mTypeError\u001b[0m: Invalid shape (1, 28, 28) for image data"
     ]
    },
    {
     "data": {
      "image/png": "[encoded data removed]",
      "text/plain": [
       "<Figure size 640x480 with 1 Axes>"
      ]
     },
     "metadata": {},
     "output_type": "display_data"
    }
   ],
   "source": [
    "# won't work due to invalid shape. expecting 28x28\n",
    "plt.imshow(image1)"
   ]
  },
  {
   "cell_type": "code",
   "execution_count": 74,
   "id": "0ede427e-6458-4c3a-9009-ddf98d081093",
   "metadata": {},
   "outputs": [
    {
     "data": {
      "text/plain": [
       "torch.Size([1, 28, 28])"
      ]
     },
     "execution_count": 74,
     "metadata": {},
     "output_type": "execute_result"
    }
   ],
   "source": [
    "image1.shape"
   ]
  },
  {
   "cell_type": "code",
   "execution_count": 69,
   "id": "d31a9db4-13f9-4ab3-b666-3a48a0bb6780",
   "metadata": {},
   "outputs": [
    {
     "data": {
      "text/plain": [
       "torch.Size([28, 28])"
      ]
     },
     "execution_count": 69,
     "metadata": {},
     "output_type": "execute_result"
    }
   ],
   "source": [
    "image1.squeeze().shape"
   ]
  },
  {
   "cell_type": "code",
   "execution_count": 70,
   "id": "1a1ab473-3722-45a9-8a30-26ca1e6de084",
   "metadata": {},
   "outputs": [
    {
     "data": {
      "text/plain": [
       "<matplotlib.image.AxesImage at 0x22d064524d0>"
      ]
     },
     "execution_count": 70,
     "metadata": {},
     "output_type": "execute_result"
    },
    {
     "data": {
      "image/png": "[encoded data removed]",
      "text/plain": [
       "<Figure size 640x480 with 1 Axes>"
      ]
     },
     "metadata": {},
     "output_type": "display_data"
    }
   ],
   "source": [
    "plt.imshow(image1.squeeze())"
   ]
  },
  {
   "cell_type": "code",
   "execution_count": 71,
   "id": "451fc7d7-112a-42c6-a954-aedee90a4304",
   "metadata": {},
   "outputs": [
    {
     "data": {
      "image/png": "[encoded data removed]",
      "text/plain": [
       "<Figure size 640x480 with 1 Axes>"
      ]
     },
     "metadata": {},
     "output_type": "display_data"
    }
   ],
   "source": [
    "plt.imshow(image1.squeeze(), cmap='Greys_r');"
   ]
  },
  {
   "cell_type": "code",
   "execution_count": 72,
   "id": "c1ca3541-4186-4265-8053-f73c88aad43f",
   "metadata": {},
   "outputs": [
    {
     "data": {
      "image/png": "[encoded data removed]",
      "text/plain": [
       "<Figure size 640x480 with 1 Axes>"
      ]
     },
     "metadata": {},
     "output_type": "display_data"
    }
   ],
   "source": [
    "plt.imshow(image2.squeeze(), cmap='Greys_r');"
   ]
  },
  {
   "cell_type": "code",
   "execution_count": 73,
   "id": "dac42d07-acab-403d-960c-912d4a153316",
   "metadata": {},
   "outputs": [
    {
     "name": "stdout",
     "output_type": "stream",
     "text": [
      "tensor([9, 2, 6, 5, 6, 8, 9, 3, 5, 0, 5, 5, 5, 6, 7, 4, 9, 8, 9, 6, 1, 0, 3, 2,\n",
      "        9, 5, 6, 7, 7, 9, 7, 8, 7, 1, 5, 0, 4, 4, 0, 9, 1, 2, 3, 5, 6, 7, 9, 9,\n",
      "        5, 4, 7, 6, 5, 0, 1, 3, 9, 2, 6, 1, 1, 8, 3, 5])\n",
      "torch.Size([64])\n"
     ]
    }
   ],
   "source": [
    "print(labels)\n",
    "print(labels.shape)"
   ]
  },
  {
   "cell_type": "code",
   "execution_count": 16,
   "id": "b60a702a-c450-4e01-9bc6-cd16c5d160e3",
   "metadata": {},
   "outputs": [
    {
     "data": {
      "image/png": "[encoded data removed]",
      "text/plain": [
       "<Figure size 1200x600 with 8 Axes>"
      ]
     },
     "metadata": {},
     "output_type": "display_data"
    }
   ],
   "source": [
    "# first 8 images in the first batch\n",
    "fig, ax = plt.subplots(nrows=2, ncols=4, figsize=(12, 6))\n",
    "ax = np.ravel(ax)\n",
    "for index in range(8):\n",
    " image = images[index]\n",
    " label = labels[index]\n",
    " ax[index].imshow(image.squeeze(), cmap='gray', interpolation='none')\n",
    " ax[index].set_title(f\"Label: {label}\")\n",
    " ax[index].set_xticks([])\n",
    " ax[index].set_yticks([])\n",
    "plt.tight_layout()\n",
    "plt.show()"
   ]
  },
  {
   "cell_type": "markdown",
   "id": "536a329d-0a9f-42ff-bc80-065f42e20eb3",
   "metadata": {},
   "source": [
    "---"
   ]
  },
  {
   "cell_type": "code",
   "execution_count": 17,
   "id": "822cbf0b-4e2e-45c6-ba4a-196e3de17e87",
   "metadata": {},
   "outputs": [
    {
     "data": {
      "text/plain": [
       "torch.Size([64, 1, 28, 28])"
      ]
     },
     "execution_count": 17,
     "metadata": {},
     "output_type": "execute_result"
    }
   ],
   "source": [
    "images.shape"
   ]
  },
  {
   "cell_type": "code",
   "execution_count": 18,
   "id": "102d52f2-7df9-4436-aa49-31512f8d93cc",
   "metadata": {},
   "outputs": [
    {
     "data": {
      "text/plain": [
       "torch.Size([64, 784])"
      ]
     },
     "execution_count": 18,
     "metadata": {},
     "output_type": "execute_result"
    }
   ],
   "source": [
    "images.view(64, -1).shape"
   ]
  },
  {
   "cell_type": "code",
   "execution_count": 19,
   "id": "90126aa9-923a-4f54-a597-08307936dc58",
   "metadata": {},
   "outputs": [],
   "source": [
    "# flatten the input images\n",
    "inputs = images.view(64, -1)"
   ]
  },
  {
   "cell_type": "code",
   "execution_count": 20,
   "id": "7bbebf98-03a4-4346-9387-04626268c03c",
   "metadata": {},
   "outputs": [
    {
     "data": {
      "text/plain": [
       "torch.Size([64, 784])"
      ]
     },
     "execution_count": 20,
     "metadata": {},
     "output_type": "execute_result"
    }
   ],
   "source": [
    "# 28x28 = 784 (single image)\n",
    "# 1 batch = 64 images\n",
    "inputs.shape\n",
    "# 64개의 이미지를 1차원으로 벌림\n",
    "# 인풋 노드는 784개"
   ]
  },
  {
   "cell_type": "code",
   "execution_count": 21,
   "id": "ac3f0a55-adb2-4da9-828f-f91db41e37f1",
   "metadata": {},
   "outputs": [],
   "source": [
    "W1 = torch.randn(784, 256)\n",
    "B1 = torch.randn(256)\n",
    "W2 = torch.randn(256, 10)\n",
    "B2 = torch.randn(10)"
   ]
  },
  {
   "cell_type": "code",
   "execution_count": 22,
   "id": "6be0b627-4aea-4d10-a96e-337404bfdbe4",
   "metadata": {},
   "outputs": [
    {
     "data": {
      "text/plain": [
       "torch.Size([784, 256])"
      ]
     },
     "execution_count": 22,
     "metadata": {},
     "output_type": "execute_result"
    }
   ],
   "source": [
    "W1.shape"
   ]
  },
  {
   "cell_type": "code",
   "execution_count": 23,
   "id": "642d8099-b8a6-4151-92ab-8b516c812cb8",
   "metadata": {},
   "outputs": [
    {
     "data": {
      "text/plain": [
       "torch.Size([256])"
      ]
     },
     "execution_count": 23,
     "metadata": {},
     "output_type": "execute_result"
    }
   ],
   "source": [
    "B1.shape"
   ]
  },
  {
   "cell_type": "code",
   "execution_count": 24,
   "id": "82168cf0-f4e9-4376-943f-f38c106f1699",
   "metadata": {},
   "outputs": [
    {
     "data": {
      "text/plain": [
       "torch.Size([256, 10])"
      ]
     },
     "execution_count": 24,
     "metadata": {},
     "output_type": "execute_result"
    }
   ],
   "source": [
    "W2.shape"
   ]
  },
  {
   "cell_type": "code",
   "execution_count": 25,
   "id": "26cf4f67-1fd4-4ec6-ab3f-dade10b3a308",
   "metadata": {},
   "outputs": [
    {
     "data": {
      "text/plain": [
       "torch.Size([10])"
      ]
     },
     "execution_count": 25,
     "metadata": {},
     "output_type": "execute_result"
    }
   ],
   "source": [
    "B2.shape"
   ]
  },
  {
   "cell_type": "markdown",
   "id": "58dfb01c-3f5d-4985-ac81-052589541824",
   "metadata": {},
   "source": [
    "---"
   ]
  },
  {
   "cell_type": "code",
   "execution_count": 79,
   "id": "77c233be-ac90-4820-9b74-196e8fa01b4e",
   "metadata": {},
   "outputs": [],
   "source": [
    "def sigmoid(x):\n",
    "    return 1 / (1 + torch.exp(-x))"
   ]
  },
  {
   "cell_type": "code",
   "execution_count": 80,
   "id": "d5f401c0-720a-44a2-997b-4d5099466b0c",
   "metadata": {},
   "outputs": [],
   "source": [
    "A = sigmoid(torch.mm(inputs, W1) + B1)\n",
    "output = torch.mm(A, W2) + B2"
   ]
  },
  {
   "cell_type": "code",
   "execution_count": 81,
   "id": "14ee81a9-4229-4d3c-a072-be74ab407104",
   "metadata": {},
   "outputs": [
    {
     "data": {
      "text/plain": [
       "torch.Size([64, 10])"
      ]
     },
     "execution_count": 81,
     "metadata": {},
     "output_type": "execute_result"
    }
   ],
   "source": [
    "output.shape"
   ]
  },
  {
   "cell_type": "code",
   "execution_count": 82,
   "id": "db2283af-15e9-459d-a849-1ac6e4ca7eb5",
   "metadata": {},
   "outputs": [
    {
     "data": {
      "text/plain": [
       "torch.Size([10])"
      ]
     },
     "execution_count": 82,
     "metadata": {},
     "output_type": "execute_result"
    }
   ],
   "source": [
    "output[0].shape"
   ]
  },
  {
   "cell_type": "code",
   "execution_count": 83,
   "id": "e975526d-1b2b-4480-94d1-a125d7171f36",
   "metadata": {},
   "outputs": [
    {
     "data": {
      "text/plain": [
       "tensor([ 20.1849,   3.4355,  20.6264, -16.1560,  -4.8984,  18.6786,   0.1428,\n",
       "          7.4791,   6.5654, -15.0578])"
      ]
     },
     "execution_count": 83,
     "metadata": {},
     "output_type": "execute_result"
    }
   ],
   "source": [
    "output[0]"
   ]
  },
  {
   "cell_type": "code",
   "execution_count": 84,
   "id": "4cdedbf2-932c-4c61-b204-f240a0b00b59",
   "metadata": {},
   "outputs": [
    {
     "data": {
      "text/plain": [
       "tensor(41.0005)"
      ]
     },
     "execution_count": 84,
     "metadata": {},
     "output_type": "execute_result"
    }
   ],
   "source": [
    "torch.sum(output[0])"
   ]
  },
  {
   "cell_type": "markdown",
   "id": "f178e5ff-47fa-481d-a0f3-a111ab252cff",
   "metadata": {},
   "source": [
    "---"
   ]
  },
  {
   "cell_type": "markdown",
   "id": "944dbe44-2294-40a1-8a9f-d1d1f7add3b2",
   "metadata": {},
   "source": [
    "## Softmax Apply"
   ]
  },
  {
   "cell_type": "code",
   "execution_count": 85,
   "id": "2318696e-e4fa-47de-b0d9-61a7c8c78c26",
   "metadata": {},
   "outputs": [],
   "source": [
    "def softmax(x):\n",
    "    return torch.exp(x) / torch.sum(torch.exp(x))"
   ]
  },
  {
   "cell_type": "code",
   "execution_count": 86,
   "id": "e34d5ffb-ba04-470d-ad54-08982ca8b903",
   "metadata": {},
   "outputs": [
    {
     "data": {
      "text/plain": [
       "tensor([3.6014e-01, 1.9156e-08, 5.6000e-01, 5.9402e-17, 4.6018e-12, 7.9855e-02,\n",
       "        7.1170e-10, 1.0925e-06, 4.3811e-07, 1.7814e-16])"
      ]
     },
     "execution_count": 86,
     "metadata": {},
     "output_type": "execute_result"
    }
   ],
   "source": [
    "softmax(output[0])"
   ]
  },
  {
   "cell_type": "code",
   "execution_count": 87,
   "id": "5675dce2-683a-4952-8f38-03a0bdfff424",
   "metadata": {},
   "outputs": [
    {
     "data": {
      "text/plain": [
       "tensor([0.3601, 0.0000, 0.5600, 0.0000, 0.0000, 0.0799, 0.0000, 0.0000, 0.0000,\n",
       "        0.0000])"
      ]
     },
     "execution_count": 87,
     "metadata": {},
     "output_type": "execute_result"
    }
   ],
   "source": [
    "torch.round(softmax(output[0]), decimals=4)"
   ]
  },
  {
   "cell_type": "code",
   "execution_count": 91,
   "id": "5a3ca4c8-8b25-452d-9077-2a77d9bd9939",
   "metadata": {},
   "outputs": [
    {
     "data": {
      "text/plain": [
       "tensor(1.)"
      ]
     },
     "execution_count": 91,
     "metadata": {},
     "output_type": "execute_result"
    }
   ],
   "source": [
    "torch.sum(softmax(output[0]))"
   ]
  },
  {
   "cell_type": "markdown",
   "id": "952297ee-b234-4492-afbf-b714dcd8c864",
   "metadata": {},
   "source": [
    "---"
   ]
  },
  {
   "cell_type": "code",
   "execution_count": 36,
   "id": "98440f84-fd4c-4d91-8f1e-fc8f56b6d702",
   "metadata": {},
   "outputs": [],
   "source": [
    "# all the images in the first batch\n",
    "probabilities = []\n",
    "for i in range(64):\n",
    "    probability = softmax(output[i])\n",
    "    probabilities.append(probability)"
   ]
  },
  {
   "cell_type": "code",
   "execution_count": 37,
   "id": "0e09a5db-765c-469a-9a2a-77119de64799",
   "metadata": {},
   "outputs": [
    {
     "name": "stdout",
     "output_type": "stream",
     "text": [
      "Image 01 = tensor(1.)\n",
      "Image 63 = tensor(1.0000)\n"
     ]
    }
   ],
   "source": [
    "print(\"Image 01 =\", torch.sum(probabilities[0]))\n",
    "# ...\n",
    "print(\"Image 63 =\", torch.sum(probabilities[63]))"
   ]
  },
  {
   "cell_type": "code",
   "execution_count": 92,
   "id": "e903f77d-e559-4dab-84fe-f39d434d3434",
   "metadata": {},
   "outputs": [],
   "source": [
    "def softmax(x):\n",
    "    return torch.exp(x) / torch.sum(torch.exp(x), dim=1).view(-1, 1)"
   ]
  },
  {
   "cell_type": "code",
   "execution_count": 93,
   "id": "0d587006-59fe-42ab-977f-6a375679db8d",
   "metadata": {
    "scrolled": true
   },
   "outputs": [
    {
     "data": {
      "text/plain": [
       "tensor([[3.6014e-01, 1.9156e-08, 5.6000e-01, 5.9402e-17, 4.6018e-12, 7.9855e-02,\n",
       "         7.1170e-10, 1.0925e-06, 4.3811e-07, 1.7814e-16],\n",
       "        [9.6873e-01, 2.0204e-04, 7.0170e-04, 2.6302e-15, 2.3642e-15, 3.0362e-02,\n",
       "         2.1449e-13, 5.4796e-07, 1.5604e-07, 1.4661e-20],\n",
       "        [9.9867e-01, 1.1845e-06, 6.7100e-07, 3.7822e-19, 7.1766e-18, 1.3251e-03,\n",
       "         5.4959e-12, 1.0468e-07, 5.7168e-08, 1.7874e-16],\n",
       "        [9.8420e-01, 2.2144e-05, 3.8282e-04, 1.3176e-14, 4.2959e-16, 1.4723e-02,\n",
       "         8.4875e-10, 6.4423e-04, 3.0268e-05, 5.6312e-19],\n",
       "        [2.4362e-02, 1.9894e-07, 1.5459e-06, 1.5376e-20, 1.5253e-16, 9.7564e-01,\n",
       "         5.9364e-15, 5.0111e-08, 1.9597e-11, 1.3529e-19],\n",
       "        [4.6591e-04, 8.0357e-13, 1.1602e-08, 3.5929e-18, 3.8243e-17, 9.9953e-01,\n",
       "         1.7127e-12, 2.4139e-09, 1.4904e-13, 8.0045e-25],\n",
       "        [9.9994e-01, 2.7884e-05, 1.1106e-09, 9.0576e-23, 6.0435e-18, 3.3356e-05,\n",
       "         2.7759e-13, 3.1980e-07, 1.3159e-11, 3.3430e-19],\n",
       "        [9.9941e-01, 5.0576e-04, 3.2477e-07, 3.7168e-17, 8.9457e-15, 4.7179e-06,\n",
       "         1.5640e-12, 8.0541e-05, 8.7434e-08, 4.2289e-19],\n",
       "        [3.2608e-01, 5.9241e-07, 8.5247e-03, 2.5854e-14, 1.0192e-13, 6.6536e-01,\n",
       "         9.8053e-07, 3.3453e-05, 9.3583e-11, 4.1651e-16],\n",
       "        [1.0780e-01, 3.8802e-02, 1.4138e-07, 1.9029e-17, 2.8314e-13, 8.5317e-01,\n",
       "         2.1926e-04, 9.5313e-08, 7.6427e-13, 1.0285e-16],\n",
       "        [2.5082e-01, 6.5857e-03, 8.4970e-07, 2.3592e-15, 3.8727e-18, 7.2228e-01,\n",
       "         3.9406e-14, 2.0316e-02, 3.0846e-07, 3.5947e-15],\n",
       "        [7.5046e-02, 1.1402e-06, 8.1644e-07, 3.2551e-17, 4.5439e-18, 9.2495e-01,\n",
       "         6.6158e-12, 2.7940e-06, 6.0399e-10, 7.2511e-24],\n",
       "        [9.7475e-01, 1.5872e-05, 1.2692e-05, 7.4370e-15, 4.8668e-17, 3.7161e-07,\n",
       "         1.9440e-11, 2.5224e-02, 1.5956e-10, 7.6627e-17],\n",
       "        [9.6883e-01, 1.6578e-08, 2.0019e-05, 5.6482e-23, 8.4990e-17, 3.1123e-02,\n",
       "         2.1705e-10, 3.1113e-05, 6.0370e-09, 3.4130e-17],\n",
       "        [9.9995e-01, 1.6752e-05, 2.9095e-05, 3.8724e-18, 1.8217e-12, 1.9047e-06,\n",
       "         3.1618e-14, 8.4790e-08, 4.5553e-07, 1.4760e-13],\n",
       "        [9.9546e-01, 1.6527e-05, 3.5360e-03, 1.8540e-16, 2.5945e-13, 1.6759e-05,\n",
       "         1.4505e-12, 9.6553e-04, 2.0884e-07, 1.5108e-12],\n",
       "        [2.6440e-01, 2.2215e-06, 1.6875e-05, 6.7818e-16, 3.8636e-13, 7.3538e-01,\n",
       "         8.7353e-11, 1.9892e-04, 9.1208e-09, 7.5730e-18],\n",
       "        [9.9707e-01, 2.4503e-07, 7.0180e-10, 9.1337e-22, 3.2482e-15, 2.6232e-03,\n",
       "         8.5102e-11, 3.1086e-04, 3.2284e-08, 1.4494e-15],\n",
       "        [4.5266e-01, 1.9633e-02, 1.2895e-04, 8.4593e-18, 6.3677e-16, 5.2751e-01,\n",
       "         9.4947e-13, 6.3142e-06, 6.6442e-05, 3.2207e-16],\n",
       "        [1.3592e-01, 1.4795e-05, 1.5637e-04, 9.8768e-20, 3.5026e-17, 8.6391e-01,\n",
       "         1.8890e-14, 1.8415e-08, 4.0353e-12, 1.3535e-15],\n",
       "        [1.6234e-05, 2.4254e-06, 7.5134e-08, 1.1868e-15, 4.3102e-14, 9.9998e-01,\n",
       "         2.4005e-15, 5.5933e-06, 1.5485e-08, 7.2429e-15],\n",
       "        [9.9982e-01, 5.6365e-09, 1.7253e-04, 4.8647e-26, 1.2462e-11, 2.8311e-06,\n",
       "         4.4614e-14, 2.9010e-11, 1.0321e-13, 2.7741e-15],\n",
       "        [5.4403e-01, 3.8405e-08, 1.0965e-07, 5.6018e-17, 2.0052e-18, 2.9162e-01,\n",
       "         1.1696e-14, 1.0587e-05, 1.6434e-01, 1.0150e-17],\n",
       "        [9.9899e-01, 3.7496e-06, 9.9779e-04, 1.6219e-15, 1.7075e-16, 8.8385e-06,\n",
       "         4.9013e-15, 1.5429e-08, 2.9222e-09, 7.2221e-19],\n",
       "        [9.9600e-01, 1.3587e-09, 5.8213e-05, 4.7015e-21, 6.8798e-18, 3.9438e-03,\n",
       "         3.3528e-18, 2.1363e-11, 3.6484e-10, 4.1277e-22],\n",
       "        [1.1060e-04, 1.2544e-02, 3.0401e-05, 8.6447e-20, 5.6215e-20, 9.8731e-01,\n",
       "         3.3998e-12, 6.9655e-08, 2.3568e-06, 8.3644e-19],\n",
       "        [9.9930e-01, 3.4630e-07, 4.5946e-06, 1.4431e-16, 5.3165e-16, 6.9786e-04,\n",
       "         1.1052e-09, 4.1356e-07, 1.4727e-08, 2.6915e-16],\n",
       "        [7.5739e-01, 9.0630e-07, 2.4090e-01, 7.4179e-14, 5.0431e-15, 1.6890e-03,\n",
       "         2.3729e-10, 1.2066e-05, 1.3833e-05, 8.0493e-18],\n",
       "        [9.9999e-01, 4.9455e-12, 3.5338e-06, 8.9545e-18, 3.3264e-14, 4.2472e-06,\n",
       "         2.5467e-15, 1.1125e-07, 2.7615e-09, 1.6088e-18],\n",
       "        [9.9999e-01, 1.9960e-09, 1.7325e-10, 4.5168e-16, 2.8432e-15, 1.1062e-05,\n",
       "         1.2153e-18, 4.4531e-08, 1.2534e-13, 7.1287e-23],\n",
       "        [9.9999e-01, 8.5463e-11, 1.3106e-08, 4.7533e-19, 5.1199e-17, 3.6125e-07,\n",
       "         1.3237e-17, 7.1385e-06, 4.0203e-11, 1.9933e-20],\n",
       "        [6.1604e-02, 5.6660e-04, 4.4495e-03, 7.0902e-16, 6.0064e-14, 2.9797e-02,\n",
       "         4.7951e-08, 9.0358e-01, 1.2855e-06, 2.4347e-14],\n",
       "        [9.9235e-01, 1.0753e-04, 1.6813e-08, 1.0865e-14, 6.8935e-16, 7.5400e-03,\n",
       "         1.7145e-14, 3.7215e-06, 4.6559e-07, 8.9818e-21],\n",
       "        [9.9791e-01, 3.2566e-04, 6.0803e-04, 8.8428e-13, 1.0201e-14, 1.1538e-03,\n",
       "         3.7350e-17, 1.6051e-06, 2.4123e-08, 1.1732e-14],\n",
       "        [3.1836e-01, 8.3078e-05, 1.4419e-08, 2.1802e-16, 2.7657e-15, 6.8107e-01,\n",
       "         2.4602e-13, 4.8391e-04, 5.2955e-10, 1.5060e-14],\n",
       "        [1.0000e+00, 5.1253e-10, 2.8366e-12, 2.4213e-21, 3.2055e-15, 3.9844e-06,\n",
       "         2.5599e-13, 1.3880e-07, 1.4107e-14, 2.9623e-13],\n",
       "        [9.9823e-01, 1.9506e-08, 4.2282e-05, 1.8972e-15, 9.1665e-14, 1.6633e-03,\n",
       "         1.0065e-09, 6.8342e-05, 6.6521e-14, 1.3549e-15],\n",
       "        [9.8175e-01, 4.4091e-11, 6.0900e-06, 3.8077e-21, 8.7775e-15, 1.8233e-02,\n",
       "         2.3803e-09, 1.1790e-05, 8.5206e-12, 1.1579e-20],\n",
       "        [3.2083e-03, 1.3092e-03, 5.8521e-05, 2.3204e-16, 1.0260e-15, 9.9542e-01,\n",
       "         1.0498e-06, 6.1197e-07, 1.7668e-09, 8.7902e-14],\n",
       "        [6.3271e-01, 4.8971e-05, 5.0785e-06, 3.1316e-25, 1.8231e-14, 3.6722e-01,\n",
       "         2.4503e-14, 1.3204e-05, 1.0367e-07, 2.1051e-19],\n",
       "        [9.9335e-01, 6.1538e-03, 2.0926e-06, 9.7445e-17, 4.1689e-17, 4.9800e-04,\n",
       "         7.1774e-17, 2.2701e-07, 5.7120e-08, 3.4463e-16],\n",
       "        [9.9941e-01, 1.5450e-06, 1.1940e-05, 3.5046e-14, 2.9019e-19, 2.1007e-04,\n",
       "         7.9621e-11, 1.8309e-04, 1.8788e-04, 1.4701e-14],\n",
       "        [9.9996e-01, 9.7045e-06, 1.5493e-06, 6.1277e-17, 2.4226e-16, 2.9770e-05,\n",
       "         2.1769e-12, 6.9262e-07, 9.8629e-10, 1.2173e-18],\n",
       "        [3.1459e-03, 8.4570e-06, 1.0325e-04, 1.3554e-17, 5.0624e-13, 9.9233e-01,\n",
       "         1.2515e-09, 4.4140e-03, 9.6434e-09, 1.5434e-20],\n",
       "        [3.1714e-01, 6.3249e-06, 3.1611e-05, 2.5814e-17, 1.7172e-18, 6.8281e-01,\n",
       "         2.8468e-11, 5.7102e-07, 1.1608e-05, 1.0031e-14],\n",
       "        [7.9199e-01, 9.4341e-07, 2.3885e-03, 2.4131e-14, 1.6537e-11, 2.0406e-01,\n",
       "         2.2069e-12, 1.5525e-03, 1.7553e-06, 1.2836e-21],\n",
       "        [9.8732e-01, 6.8249e-13, 1.7636e-05, 5.0392e-21, 5.9866e-14, 1.2667e-02,\n",
       "         4.8914e-17, 5.3267e-09, 1.4683e-09, 4.6522e-19],\n",
       "        [9.9538e-01, 5.3442e-08, 4.8981e-07, 1.7784e-13, 4.2634e-10, 1.4462e-03,\n",
       "         1.6323e-14, 3.1698e-03, 4.2186e-10, 2.5724e-23],\n",
       "        [3.4701e-06, 5.1932e-12, 6.7552e-07, 1.7728e-22, 5.8109e-20, 1.0000e+00,\n",
       "         6.7411e-14, 2.5659e-11, 1.2277e-13, 4.4508e-21],\n",
       "        [9.9544e-01, 2.1355e-07, 6.0936e-05, 2.2835e-20, 3.8697e-13, 4.3897e-03,\n",
       "         5.0307e-11, 1.0487e-04, 3.2142e-14, 4.1308e-16],\n",
       "        [2.2406e-03, 2.9156e-05, 7.8918e-01, 2.5338e-22, 2.4811e-17, 2.0843e-01,\n",
       "         8.8519e-15, 2.6420e-07, 1.2581e-04, 2.4556e-18],\n",
       "        [3.0401e-09, 4.7325e-08, 3.1255e-06, 2.2172e-26, 8.6734e-21, 1.0000e+00,\n",
       "         2.7824e-14, 1.4971e-12, 2.1888e-16, 3.0344e-17],\n",
       "        [2.1512e-04, 3.1644e-06, 3.8507e-04, 4.0595e-15, 3.7806e-15, 9.9938e-01,\n",
       "         1.6150e-12, 1.1555e-05, 3.3452e-06, 1.3887e-15],\n",
       "        [3.2774e-01, 3.6311e-06, 7.5843e-10, 1.4192e-18, 5.3973e-17, 6.7225e-01,\n",
       "         8.8402e-07, 6.1616e-08, 4.1005e-12, 7.8944e-22],\n",
       "        [2.3574e-01, 1.8558e-02, 2.4556e-03, 5.6549e-12, 7.2088e-17, 7.4324e-01,\n",
       "         3.3498e-10, 8.8595e-08, 2.2509e-08, 4.3735e-16],\n",
       "        [9.8292e-01, 2.5602e-06, 1.3347e-03, 4.6277e-19, 2.9984e-17, 1.5742e-02,\n",
       "         2.5221e-14, 1.5201e-06, 1.9783e-07, 1.1362e-19],\n",
       "        [7.5485e-01, 6.2562e-09, 6.3619e-02, 1.1526e-16, 3.3850e-10, 1.7868e-01,\n",
       "         1.6866e-08, 2.8482e-03, 1.7583e-07, 3.9557e-15],\n",
       "        [1.5967e-03, 2.3541e-05, 3.0605e-05, 3.3609e-18, 1.5837e-18, 9.9835e-01,\n",
       "         6.4578e-16, 1.4084e-06, 4.4800e-10, 1.4384e-20],\n",
       "        [9.9898e-01, 8.2376e-07, 1.4410e-04, 1.2968e-19, 1.4308e-13, 8.6518e-04,\n",
       "         7.6314e-11, 5.4203e-06, 1.9172e-07, 6.9193e-19],\n",
       "        [9.5534e-01, 1.0393e-02, 1.7752e-04, 1.5532e-13, 2.1778e-13, 3.3927e-02,\n",
       "         1.1620e-16, 1.6795e-04, 4.1846e-08, 1.4051e-10],\n",
       "        [4.0021e-02, 2.7481e-08, 4.7404e-10, 7.5010e-17, 2.7637e-16, 9.5991e-01,\n",
       "         2.8887e-14, 3.8123e-05, 3.2154e-05, 5.2359e-18],\n",
       "        [3.3123e-01, 4.9066e-05, 8.6655e-07, 2.3632e-22, 3.0581e-17, 5.4354e-01,\n",
       "         5.8506e-15, 1.2518e-01, 1.6947e-10, 3.3627e-16],\n",
       "        [9.9963e-01, 5.5681e-07, 4.9369e-10, 2.1992e-18, 2.3468e-12, 2.2993e-05,\n",
       "         9.5437e-14, 3.5108e-04, 3.1447e-09, 2.3898e-18],\n",
       "        [1.6281e-07, 9.8903e-01, 1.4492e-07, 9.8630e-15, 1.3574e-14, 1.0822e-02,\n",
       "         1.1652e-11, 1.4885e-04, 2.5682e-10, 3.4943e-20]])"
      ]
     },
     "execution_count": 93,
     "metadata": {},
     "output_type": "execute_result"
    }
   ],
   "source": [
    "softmax(output)"
   ]
  },
  {
   "cell_type": "code",
   "execution_count": 94,
   "id": "fb5d0f80-1ffb-42e7-a7f5-24dbb8948d74",
   "metadata": {},
   "outputs": [],
   "source": [
    "from torch import nn"
   ]
  },
  {
   "cell_type": "code",
   "execution_count": 95,
   "id": "b057efd4-06ec-49b0-ab2b-b19740fc9f72",
   "metadata": {
    "scrolled": true
   },
   "outputs": [
    {
     "data": {
      "text/plain": [
       "tensor([[3.6014e-01, 1.9156e-08, 5.6000e-01, 5.9402e-17, 4.6018e-12, 7.9855e-02,\n",
       "         7.1171e-10, 1.0925e-06, 4.3811e-07, 1.7814e-16],\n",
       "        [9.6873e-01, 2.0204e-04, 7.0170e-04, 2.6302e-15, 2.3642e-15, 3.0362e-02,\n",
       "         2.1449e-13, 5.4796e-07, 1.5604e-07, 1.4661e-20],\n",
       "        [9.9867e-01, 1.1845e-06, 6.7100e-07, 3.7822e-19, 7.1766e-18, 1.3251e-03,\n",
       "         5.4959e-12, 1.0468e-07, 5.7168e-08, 1.7874e-16],\n",
       "        [9.8420e-01, 2.2144e-05, 3.8282e-04, 1.3176e-14, 4.2959e-16, 1.4723e-02,\n",
       "         8.4875e-10, 6.4423e-04, 3.0268e-05, 5.6312e-19],\n",
       "        [2.4362e-02, 1.9894e-07, 1.5459e-06, 1.5376e-20, 1.5253e-16, 9.7564e-01,\n",
       "         5.9364e-15, 5.0111e-08, 1.9597e-11, 1.3529e-19],\n",
       "        [4.6591e-04, 8.0357e-13, 1.1602e-08, 3.5929e-18, 3.8243e-17, 9.9953e-01,\n",
       "         1.7127e-12, 2.4139e-09, 1.4904e-13, 8.0045e-25],\n",
       "        [9.9994e-01, 2.7884e-05, 1.1106e-09, 9.0575e-23, 6.0435e-18, 3.3356e-05,\n",
       "         2.7759e-13, 3.1980e-07, 1.3159e-11, 3.3430e-19],\n",
       "        [9.9941e-01, 5.0576e-04, 3.2477e-07, 3.7167e-17, 8.9457e-15, 4.7179e-06,\n",
       "         1.5640e-12, 8.0541e-05, 8.7434e-08, 4.2289e-19],\n",
       "        [3.2608e-01, 5.9241e-07, 8.5247e-03, 2.5854e-14, 1.0192e-13, 6.6536e-01,\n",
       "         9.8053e-07, 3.3453e-05, 9.3583e-11, 4.1651e-16],\n",
       "        [1.0780e-01, 3.8802e-02, 1.4138e-07, 1.9029e-17, 2.8314e-13, 8.5317e-01,\n",
       "         2.1926e-04, 9.5313e-08, 7.6427e-13, 1.0285e-16],\n",
       "        [2.5082e-01, 6.5857e-03, 8.4970e-07, 2.3592e-15, 3.8727e-18, 7.2228e-01,\n",
       "         3.9406e-14, 2.0316e-02, 3.0846e-07, 3.5947e-15],\n",
       "        [7.5046e-02, 1.1402e-06, 8.1644e-07, 3.2551e-17, 4.5439e-18, 9.2495e-01,\n",
       "         6.6159e-12, 2.7940e-06, 6.0399e-10, 7.2511e-24],\n",
       "        [9.7475e-01, 1.5872e-05, 1.2692e-05, 7.4370e-15, 4.8668e-17, 3.7161e-07,\n",
       "         1.9441e-11, 2.5224e-02, 1.5956e-10, 7.6627e-17],\n",
       "        [9.6883e-01, 1.6578e-08, 2.0019e-05, 5.6482e-23, 8.4991e-17, 3.1123e-02,\n",
       "         2.1705e-10, 3.1113e-05, 6.0370e-09, 3.4130e-17],\n",
       "        [9.9995e-01, 1.6752e-05, 2.9095e-05, 3.8724e-18, 1.8217e-12, 1.9047e-06,\n",
       "         3.1617e-14, 8.4790e-08, 4.5553e-07, 1.4760e-13],\n",
       "        [9.9546e-01, 1.6527e-05, 3.5360e-03, 1.8540e-16, 2.5945e-13, 1.6759e-05,\n",
       "         1.4505e-12, 9.6553e-04, 2.0884e-07, 1.5108e-12],\n",
       "        [2.6440e-01, 2.2215e-06, 1.6875e-05, 6.7818e-16, 3.8636e-13, 7.3538e-01,\n",
       "         8.7353e-11, 1.9892e-04, 9.1208e-09, 7.5730e-18],\n",
       "        [9.9707e-01, 2.4503e-07, 7.0180e-10, 9.1337e-22, 3.2482e-15, 2.6232e-03,\n",
       "         8.5101e-11, 3.1086e-04, 3.2284e-08, 1.4494e-15],\n",
       "        [4.5266e-01, 1.9633e-02, 1.2895e-04, 8.4593e-18, 6.3677e-16, 5.2751e-01,\n",
       "         9.4947e-13, 6.3142e-06, 6.6442e-05, 3.2207e-16],\n",
       "        [1.3592e-01, 1.4795e-05, 1.5637e-04, 9.8768e-20, 3.5026e-17, 8.6391e-01,\n",
       "         1.8890e-14, 1.8415e-08, 4.0353e-12, 1.3535e-15],\n",
       "        [1.6234e-05, 2.4254e-06, 7.5134e-08, 1.1868e-15, 4.3102e-14, 9.9998e-01,\n",
       "         2.4005e-15, 5.5933e-06, 1.5485e-08, 7.2429e-15],\n",
       "        [9.9982e-01, 5.6365e-09, 1.7253e-04, 4.8647e-26, 1.2462e-11, 2.8311e-06,\n",
       "         4.4614e-14, 2.9010e-11, 1.0321e-13, 2.7741e-15],\n",
       "        [5.4403e-01, 3.8405e-08, 1.0965e-07, 5.6018e-17, 2.0052e-18, 2.9162e-01,\n",
       "         1.1696e-14, 1.0587e-05, 1.6434e-01, 1.0150e-17],\n",
       "        [9.9899e-01, 3.7496e-06, 9.9779e-04, 1.6219e-15, 1.7075e-16, 8.8385e-06,\n",
       "         4.9013e-15, 1.5429e-08, 2.9222e-09, 7.2221e-19],\n",
       "        [9.9600e-01, 1.3587e-09, 5.8213e-05, 4.7015e-21, 6.8798e-18, 3.9438e-03,\n",
       "         3.3528e-18, 2.1363e-11, 3.6484e-10, 4.1277e-22],\n",
       "        [1.1060e-04, 1.2544e-02, 3.0401e-05, 8.6447e-20, 5.6215e-20, 9.8731e-01,\n",
       "         3.3998e-12, 6.9655e-08, 2.3568e-06, 8.3644e-19],\n",
       "        [9.9930e-01, 3.4630e-07, 4.5946e-06, 1.4431e-16, 5.3165e-16, 6.9786e-04,\n",
       "         1.1052e-09, 4.1356e-07, 1.4727e-08, 2.6915e-16],\n",
       "        [7.5739e-01, 9.0630e-07, 2.4090e-01, 7.4179e-14, 5.0431e-15, 1.6890e-03,\n",
       "         2.3729e-10, 1.2066e-05, 1.3833e-05, 8.0493e-18],\n",
       "        [9.9999e-01, 4.9455e-12, 3.5338e-06, 8.9545e-18, 3.3264e-14, 4.2472e-06,\n",
       "         2.5467e-15, 1.1125e-07, 2.7615e-09, 1.6088e-18],\n",
       "        [9.9999e-01, 1.9960e-09, 1.7325e-10, 4.5169e-16, 2.8432e-15, 1.1062e-05,\n",
       "         1.2153e-18, 4.4531e-08, 1.2534e-13, 7.1287e-23],\n",
       "        [9.9999e-01, 8.5463e-11, 1.3106e-08, 4.7533e-19, 5.1199e-17, 3.6125e-07,\n",
       "         1.3237e-17, 7.1385e-06, 4.0203e-11, 1.9933e-20],\n",
       "        [6.1604e-02, 5.6660e-04, 4.4495e-03, 7.0902e-16, 6.0064e-14, 2.9797e-02,\n",
       "         4.7951e-08, 9.0358e-01, 1.2855e-06, 2.4347e-14],\n",
       "        [9.9235e-01, 1.0753e-04, 1.6813e-08, 1.0865e-14, 6.8935e-16, 7.5400e-03,\n",
       "         1.7145e-14, 3.7215e-06, 4.6559e-07, 8.9818e-21],\n",
       "        [9.9791e-01, 3.2566e-04, 6.0803e-04, 8.8428e-13, 1.0201e-14, 1.1538e-03,\n",
       "         3.7350e-17, 1.6051e-06, 2.4123e-08, 1.1732e-14],\n",
       "        [3.1836e-01, 8.3078e-05, 1.4419e-08, 2.1802e-16, 2.7658e-15, 6.8107e-01,\n",
       "         2.4602e-13, 4.8391e-04, 5.2955e-10, 1.5060e-14],\n",
       "        [1.0000e+00, 5.1253e-10, 2.8366e-12, 2.4213e-21, 3.2055e-15, 3.9844e-06,\n",
       "         2.5599e-13, 1.3880e-07, 1.4107e-14, 2.9623e-13],\n",
       "        [9.9823e-01, 1.9506e-08, 4.2282e-05, 1.8972e-15, 9.1665e-14, 1.6633e-03,\n",
       "         1.0065e-09, 6.8342e-05, 6.6521e-14, 1.3549e-15],\n",
       "        [9.8175e-01, 4.4091e-11, 6.0900e-06, 3.8077e-21, 8.7774e-15, 1.8233e-02,\n",
       "         2.3803e-09, 1.1790e-05, 8.5206e-12, 1.1579e-20],\n",
       "        [3.2083e-03, 1.3092e-03, 5.8521e-05, 2.3204e-16, 1.0260e-15, 9.9542e-01,\n",
       "         1.0498e-06, 6.1197e-07, 1.7668e-09, 8.7902e-14],\n",
       "        [6.3271e-01, 4.8971e-05, 5.0785e-06, 3.1316e-25, 1.8231e-14, 3.6722e-01,\n",
       "         2.4503e-14, 1.3204e-05, 1.0367e-07, 2.1051e-19],\n",
       "        [9.9335e-01, 6.1538e-03, 2.0926e-06, 9.7445e-17, 4.1689e-17, 4.9800e-04,\n",
       "         7.1774e-17, 2.2701e-07, 5.7120e-08, 3.4463e-16],\n",
       "        [9.9941e-01, 1.5450e-06, 1.1940e-05, 3.5046e-14, 2.9019e-19, 2.1007e-04,\n",
       "         7.9621e-11, 1.8309e-04, 1.8788e-04, 1.4701e-14],\n",
       "        [9.9996e-01, 9.7045e-06, 1.5493e-06, 6.1277e-17, 2.4226e-16, 2.9770e-05,\n",
       "         2.1769e-12, 6.9262e-07, 9.8629e-10, 1.2173e-18],\n",
       "        [3.1459e-03, 8.4570e-06, 1.0325e-04, 1.3554e-17, 5.0624e-13, 9.9233e-01,\n",
       "         1.2515e-09, 4.4140e-03, 9.6435e-09, 1.5434e-20],\n",
       "        [3.1714e-01, 6.3249e-06, 3.1611e-05, 2.5814e-17, 1.7172e-18, 6.8281e-01,\n",
       "         2.8468e-11, 5.7102e-07, 1.1608e-05, 1.0031e-14],\n",
       "        [7.9199e-01, 9.4341e-07, 2.3885e-03, 2.4131e-14, 1.6537e-11, 2.0406e-01,\n",
       "         2.2069e-12, 1.5525e-03, 1.7553e-06, 1.2836e-21],\n",
       "        [9.8732e-01, 6.8249e-13, 1.7636e-05, 5.0392e-21, 5.9866e-14, 1.2667e-02,\n",
       "         4.8914e-17, 5.3267e-09, 1.4683e-09, 4.6522e-19],\n",
       "        [9.9538e-01, 5.3442e-08, 4.8981e-07, 1.7784e-13, 4.2634e-10, 1.4462e-03,\n",
       "         1.6323e-14, 3.1698e-03, 4.2186e-10, 2.5724e-23],\n",
       "        [3.4701e-06, 5.1932e-12, 6.7552e-07, 1.7728e-22, 5.8109e-20, 1.0000e+00,\n",
       "         6.7411e-14, 2.5659e-11, 1.2277e-13, 4.4508e-21],\n",
       "        [9.9544e-01, 2.1355e-07, 6.0936e-05, 2.2835e-20, 3.8697e-13, 4.3897e-03,\n",
       "         5.0307e-11, 1.0487e-04, 3.2142e-14, 4.1308e-16],\n",
       "        [2.2406e-03, 2.9156e-05, 7.8918e-01, 2.5338e-22, 2.4811e-17, 2.0843e-01,\n",
       "         8.8519e-15, 2.6420e-07, 1.2581e-04, 2.4556e-18],\n",
       "        [3.0401e-09, 4.7325e-08, 3.1255e-06, 2.2172e-26, 8.6734e-21, 1.0000e+00,\n",
       "         2.7824e-14, 1.4971e-12, 2.1888e-16, 3.0344e-17],\n",
       "        [2.1512e-04, 3.1644e-06, 3.8507e-04, 4.0595e-15, 3.7806e-15, 9.9938e-01,\n",
       "         1.6150e-12, 1.1555e-05, 3.3452e-06, 1.3887e-15],\n",
       "        [3.2774e-01, 3.6311e-06, 7.5843e-10, 1.4191e-18, 5.3973e-17, 6.7225e-01,\n",
       "         8.8402e-07, 6.1616e-08, 4.1005e-12, 7.8944e-22],\n",
       "        [2.3574e-01, 1.8558e-02, 2.4556e-03, 5.6549e-12, 7.2088e-17, 7.4324e-01,\n",
       "         3.3498e-10, 8.8595e-08, 2.2509e-08, 4.3735e-16],\n",
       "        [9.8292e-01, 2.5602e-06, 1.3347e-03, 4.6277e-19, 2.9984e-17, 1.5742e-02,\n",
       "         2.5221e-14, 1.5201e-06, 1.9783e-07, 1.1362e-19],\n",
       "        [7.5485e-01, 6.2562e-09, 6.3619e-02, 1.1526e-16, 3.3850e-10, 1.7868e-01,\n",
       "         1.6866e-08, 2.8482e-03, 1.7583e-07, 3.9557e-15],\n",
       "        [1.5967e-03, 2.3541e-05, 3.0605e-05, 3.3609e-18, 1.5837e-18, 9.9835e-01,\n",
       "         6.4578e-16, 1.4084e-06, 4.4800e-10, 1.4384e-20],\n",
       "        [9.9898e-01, 8.2376e-07, 1.4410e-04, 1.2968e-19, 1.4308e-13, 8.6518e-04,\n",
       "         7.6314e-11, 5.4203e-06, 1.9172e-07, 6.9193e-19],\n",
       "        [9.5534e-01, 1.0393e-02, 1.7752e-04, 1.5532e-13, 2.1778e-13, 3.3927e-02,\n",
       "         1.1620e-16, 1.6795e-04, 4.1846e-08, 1.4051e-10],\n",
       "        [4.0021e-02, 2.7481e-08, 4.7404e-10, 7.5010e-17, 2.7637e-16, 9.5991e-01,\n",
       "         2.8887e-14, 3.8123e-05, 3.2154e-05, 5.2359e-18],\n",
       "        [3.3123e-01, 4.9066e-05, 8.6655e-07, 2.3632e-22, 3.0580e-17, 5.4354e-01,\n",
       "         5.8506e-15, 1.2518e-01, 1.6947e-10, 3.3627e-16],\n",
       "        [9.9963e-01, 5.5681e-07, 4.9369e-10, 2.1992e-18, 2.3468e-12, 2.2993e-05,\n",
       "         9.5437e-14, 3.5108e-04, 3.1447e-09, 2.3898e-18],\n",
       "        [1.6281e-07, 9.8903e-01, 1.4492e-07, 9.8629e-15, 1.3574e-14, 1.0822e-02,\n",
       "         1.1652e-11, 1.4885e-04, 2.5682e-10, 3.4943e-20]])"
      ]
     },
     "execution_count": 95,
     "metadata": {},
     "output_type": "execute_result"
    }
   ],
   "source": [
    "softmax = nn.Softmax(dim=1)\n",
    "softmax(output)"
   ]
  },
  {
   "cell_type": "markdown",
   "id": "0bd2aa45-d2ed-4b99-bef6-b246c7009197",
   "metadata": {},
   "source": [
    "# Build Neural Network"
   ]
  },
  {
   "cell_type": "markdown",
   "id": "d039414c-6f74-4726-9f63-5c615318c27a",
   "metadata": {},
   "source": [
    "## Method 1 (OOP)"
   ]
  },
  {
   "cell_type": "markdown",
   "id": "da91a8cc-2ad0-4c07-bec6-90b31d0938f5",
   "metadata": {},
   "source": [
    "### 클래스 상속 방식 (Custom class, nn.Module)\n",
    "- nn.Module 을 상속받아 __init__ 과 forward() 메소드를 직접 정의.\n",
    "- 훨씬 유연해서 복잡한 구조(조건문, 여러 경로, 병렬 구조 등) 도 구현 가능.\n",
    "- 실전에서는 이 방식이 가장 일반적."
   ]
  },
  {
   "cell_type": "code",
   "execution_count": 42,
   "id": "153d09ec-882b-4354-8238-6dd992fb0e3c",
   "metadata": {},
   "outputs": [],
   "source": [
    "class Network(nn.Module):\n",
    "    def __init__(self):\n",
    "        super().__init__()\n",
    "        # hidden layer\n",
    "        self.hidden = nn.Linear(784, 256)\n",
    "        # output layer\n",
    "        self.output = nn.Linear(256, 10)\n",
    "        # define sigmoid and softmax\n",
    "        self.sigmoid = nn.Sigmoid()\n",
    "        self.softmax = nn.Softmax(dim=1)\n",
    "    \n",
    "    def forward(self, x):\n",
    "        z = self.hidden(x)\n",
    "        a = self.sigmoid(z)\n",
    "        out = self.output(a)\n",
    "        probabilities = self.softmax(out)\n",
    "        return probabilities"
   ]
  },
  {
   "cell_type": "code",
   "execution_count": 43,
   "id": "66d6d5bd-1c04-4b7f-bb7a-4598c54f47f8",
   "metadata": {},
   "outputs": [
    {
     "name": "stdout",
     "output_type": "stream",
     "text": [
      "Network(\n",
      "  (hidden): Linear(in_features=784, out_features=256, bias=True)\n",
      "  (output): Linear(in_features=256, out_features=10, bias=True)\n",
      "  (sigmoid): Sigmoid()\n",
      "  (softmax): Softmax(dim=1)\n",
      ")\n"
     ]
    }
   ],
   "source": [
    "model = Network()\n",
    "print(model)"
   ]
  },
  {
   "cell_type": "code",
   "execution_count": 44,
   "id": "343accc2-5741-4ae9-b2d7-b4639038eef5",
   "metadata": {},
   "outputs": [
    {
     "data": {
      "text/plain": [
       "tensor([[0.0767, 0.1500, 0.1274, 0.1302, 0.0556, 0.0855, 0.0918, 0.0976, 0.0893,\n",
       "         0.0959]], grad_fn=<SoftmaxBackward0>)"
      ]
     },
     "execution_count": 44,
     "metadata": {},
     "output_type": "execute_result"
    }
   ],
   "source": [
    "probabilities = model.forward(images[0].view(-1, 784))\n",
    "probabilities"
   ]
  },
  {
   "cell_type": "code",
   "execution_count": 45,
   "id": "af84054d-a3b9-4bbd-98a8-d686f776d737",
   "metadata": {},
   "outputs": [
    {
     "data": {
      "text/plain": [
       "tensor(1.0000, grad_fn=<SumBackward0>)"
      ]
     },
     "execution_count": 45,
     "metadata": {},
     "output_type": "execute_result"
    }
   ],
   "source": [
    "torch.sum(probabilities)"
   ]
  },
  {
   "cell_type": "markdown",
   "id": "abaab69f-bac5-4732-bda2-aa2a6d52519b",
   "metadata": {},
   "source": [
    "## Method2"
   ]
  },
  {
   "cell_type": "markdown",
   "id": "f83c520a-02c1-42ba-a6c2-c9a032ee700e",
   "metadata": {},
   "source": [
    "### 함수형 API (Functional API 활용)\n",
    "- torch.nn.functional (보통 F) 모듈을 사용해서 레이어는 모듈로 등록, 활성화 함수는 함수로 호출하는 방식.\n",
    "- forward() 안에서 자유롭게 조합 가능.\n",
    "- 레이어와 함수형 연산을 섞어서 쓰는 경우도 많음."
   ]
  },
  {
   "cell_type": "code",
   "execution_count": 46,
   "id": "845978d9-d813-49f3-b3e7-5a1400d3b97d",
   "metadata": {},
   "outputs": [],
   "source": [
    "import torch.nn.functional as F\n",
    "class Network(nn.Module):\n",
    "    def __init__(self):\n",
    "        super().__init__()\n",
    "        # hidden layer\n",
    "        self.hidden = nn.Linear(784, 256)\n",
    "        # output layer\n",
    "        self.output = nn.Linear(256, 10)\n",
    "        \n",
    "    def forward(self, x):\n",
    "        z = self.hidden(x)\n",
    "        a = F.sigmoid(z)\n",
    "        out = self.output(a)\n",
    "        probabilities = F.softmax(out, dim=1)\n",
    "        return probabilities"
   ]
  },
  {
   "cell_type": "code",
   "execution_count": 47,
   "id": "3f48827c-5224-4b81-bed5-ba5697eda531",
   "metadata": {},
   "outputs": [
    {
     "name": "stdout",
     "output_type": "stream",
     "text": [
      "Network(\n",
      "  (hidden): Linear(in_features=784, out_features=256, bias=True)\n",
      "  (output): Linear(in_features=256, out_features=10, bias=True)\n",
      ")\n"
     ]
    }
   ],
   "source": [
    "model = Network()\n",
    "print(model)"
   ]
  },
  {
   "cell_type": "code",
   "execution_count": 48,
   "id": "5df1de31-4973-444c-aea8-080131d33f9c",
   "metadata": {},
   "outputs": [
    {
     "data": {
      "text/plain": [
       "tensor([[0.0727, 0.0817, 0.1630, 0.0894, 0.0721, 0.0931, 0.0975, 0.1185, 0.0986,\n",
       "         0.1135]], grad_fn=<SoftmaxBackward0>)"
      ]
     },
     "execution_count": 48,
     "metadata": {},
     "output_type": "execute_result"
    }
   ],
   "source": [
    "probabilities = model.forward(images[0].view(-1, 784))\n",
    "probabilities"
   ]
  },
  {
   "cell_type": "code",
   "execution_count": 49,
   "id": "1842a26c-6e67-459a-8b8a-6a9e97fb32cb",
   "metadata": {},
   "outputs": [
    {
     "data": {
      "text/plain": [
       "tensor(1.0000, grad_fn=<SumBackward0>)"
      ]
     },
     "execution_count": 49,
     "metadata": {},
     "output_type": "execute_result"
    }
   ],
   "source": [
    "torch.sum(probabilities)"
   ]
  },
  {
   "cell_type": "markdown",
   "id": "722a482c-b5bf-4c1e-908e-22a05a57ac92",
   "metadata": {},
   "source": [
    "---"
   ]
  },
  {
   "cell_type": "markdown",
   "id": "bf34691d-cb33-4e8c-b6b5-b22d844e891d",
   "metadata": {},
   "source": [
    "## Method 3"
   ]
  },
  {
   "cell_type": "markdown",
   "id": "c702faaf-19f5-4ed6-83d4-3ff1a4a124ab",
   "metadata": {},
   "source": [
    "### 순차적 모델 (Sequential API)\n",
    "- nn.Sequential 을 이용해 층을 순서대로 쌓는 방식.\n",
    "- 코드가 간결하고 직관적이라 간단한 feed-forward 네트워크에 자주 사용."
   ]
  },
  {
   "cell_type": "code",
   "execution_count": 50,
   "id": "1fc0df30-ce7d-42d5-9054-7e08c46ef440",
   "metadata": {},
   "outputs": [
    {
     "name": "stdout",
     "output_type": "stream",
     "text": [
      "Sequential(\n",
      "  (0): Linear(in_features=784, out_features=256, bias=True)\n",
      "  (1): Sigmoid()\n",
      "  (2): Linear(in_features=256, out_features=10, bias=True)\n",
      "  (3): Softmax(dim=1)\n",
      ")\n"
     ]
    }
   ],
   "source": [
    "model = nn.Sequential(\n",
    "    nn.Linear(784, 256),\n",
    "    nn.Sigmoid(),\n",
    "    nn.Linear(256, 10),\n",
    "    nn.Softmax(dim=1)\n",
    ")\n",
    "print(model)"
   ]
  },
  {
   "cell_type": "code",
   "execution_count": 51,
   "id": "a9d9e661-7d2a-44dc-bbff-bac47266812a",
   "metadata": {},
   "outputs": [
    {
     "name": "stdout",
     "output_type": "stream",
     "text": [
      "Sequential(\n",
      "  (fc1): Linear(in_features=784, out_features=256, bias=True)\n",
      "  (sigmoid): Sigmoid()\n",
      "  (fc2): Linear(in_features=256, out_features=10, bias=True)\n",
      "  (softmax): Softmax(dim=1)\n",
      ")\n"
     ]
    }
   ],
   "source": [
    "from collections import OrderedDict\n",
    "\n",
    "model = nn.Sequential(OrderedDict(\n",
    "    [\n",
    "        ('fc1', nn.Linear(784, 256)), \n",
    "        ('sigmoid', nn.Sigmoid()),\n",
    "        ('fc2', nn.Linear(256, 10)),\n",
    "        ('softmax', nn.Softmax(dim=1))\n",
    "    ]\n",
    "))\n",
    "print(model)"
   ]
  },
  {
   "cell_type": "code",
   "execution_count": 52,
   "id": "22e518a3-5722-46d0-9c0d-eb0d018165e2",
   "metadata": {},
   "outputs": [
    {
     "data": {
      "text/plain": [
       "Parameter containing:\n",
       "tensor([[ 0.0256,  0.0108, -0.0201,  ..., -0.0208, -0.0241, -0.0347],\n",
       "        [ 0.0126, -0.0108,  0.0355,  ..., -0.0168,  0.0340,  0.0250],\n",
       "        [ 0.0204, -0.0316,  0.0158,  ...,  0.0129,  0.0206, -0.0067],\n",
       "        ...,\n",
       "        [-0.0011, -0.0308, -0.0132,  ...,  0.0306,  0.0262,  0.0289],\n",
       "        [ 0.0237,  0.0230, -0.0089,  ..., -0.0131, -0.0248, -0.0248],\n",
       "        [-0.0331, -0.0324,  0.0002,  ..., -0.0218,  0.0027,  0.0340]],\n",
       "       requires_grad=True)"
      ]
     },
     "execution_count": 52,
     "metadata": {},
     "output_type": "execute_result"
    }
   ],
   "source": [
    "model.fc1.weight"
   ]
  },
  {
   "cell_type": "code",
   "execution_count": 53,
   "id": "7aad7853-babc-4e17-b9f1-1cbf4079612e",
   "metadata": {},
   "outputs": [
    {
     "data": {
      "text/plain": [
       "torch.Size([256, 784])"
      ]
     },
     "execution_count": 53,
     "metadata": {},
     "output_type": "execute_result"
    }
   ],
   "source": [
    "model.fc1.weight.shape"
   ]
  },
  {
   "cell_type": "markdown",
   "id": "800c9415-b599-40e1-9435-5c3aec43790f",
   "metadata": {},
   "source": [
    "---"
   ]
  },
  {
   "cell_type": "code",
   "execution_count": 54,
   "id": "6907cf9a-da36-4005-bad4-bfc4c0aa1d37",
   "metadata": {},
   "outputs": [
    {
     "ename": "RuntimeError",
     "evalue": "mat1 and mat2 shapes cannot be multiplied (28x28 and 784x256)",
     "output_type": "error",
     "traceback": [
      "\u001b[1;31m---------------------------------------------------------------------------\u001b[0m",
      "\u001b[1;31mRuntimeError\u001b[0m                              Traceback (most recent call last)",
      "Cell \u001b[1;32mIn[54], line 2\u001b[0m\n\u001b[0;32m      1\u001b[0m \u001b[38;5;66;03m# this line will throw an error!\u001b[39;00m\n\u001b[1;32m----> 2\u001b[0m probabilities \u001b[38;5;241m=\u001b[39m \u001b[43mmodel\u001b[49m\u001b[38;5;241;43m.\u001b[39;49m\u001b[43mforward\u001b[49m\u001b[43m(\u001b[49m\u001b[43mimage1\u001b[49m\u001b[43m)\u001b[49m\n",
      "File \u001b[1;32m~\\miniconda3\\envs\\deeplearning\\lib\\site-packages\\torch\\nn\\modules\\container.py:250\u001b[0m, in \u001b[0;36mSequential.forward\u001b[1;34m(self, input)\u001b[0m\n\u001b[0;32m    248\u001b[0m \u001b[38;5;28;01mdef\u001b[39;00m\u001b[38;5;250m \u001b[39m\u001b[38;5;21mforward\u001b[39m(\u001b[38;5;28mself\u001b[39m, \u001b[38;5;28minput\u001b[39m):\n\u001b[0;32m    249\u001b[0m     \u001b[38;5;28;01mfor\u001b[39;00m module \u001b[38;5;129;01min\u001b[39;00m \u001b[38;5;28mself\u001b[39m:\n\u001b[1;32m--> 250\u001b[0m         \u001b[38;5;28minput\u001b[39m \u001b[38;5;241m=\u001b[39m \u001b[43mmodule\u001b[49m\u001b[43m(\u001b[49m\u001b[38;5;28;43minput\u001b[39;49m\u001b[43m)\u001b[49m\n\u001b[0;32m    251\u001b[0m     \u001b[38;5;28;01mreturn\u001b[39;00m \u001b[38;5;28minput\u001b[39m\n",
      "File \u001b[1;32m~\\miniconda3\\envs\\deeplearning\\lib\\site-packages\\torch\\nn\\modules\\module.py:1739\u001b[0m, in \u001b[0;36mModule._wrapped_call_impl\u001b[1;34m(self, *args, **kwargs)\u001b[0m\n\u001b[0;32m   1737\u001b[0m     \u001b[38;5;28;01mreturn\u001b[39;00m \u001b[38;5;28mself\u001b[39m\u001b[38;5;241m.\u001b[39m_compiled_call_impl(\u001b[38;5;241m*\u001b[39margs, \u001b[38;5;241m*\u001b[39m\u001b[38;5;241m*\u001b[39mkwargs)  \u001b[38;5;66;03m# type: ignore[misc]\u001b[39;00m\n\u001b[0;32m   1738\u001b[0m \u001b[38;5;28;01melse\u001b[39;00m:\n\u001b[1;32m-> 1739\u001b[0m     \u001b[38;5;28;01mreturn\u001b[39;00m \u001b[38;5;28mself\u001b[39m\u001b[38;5;241m.\u001b[39m_call_impl(\u001b[38;5;241m*\u001b[39margs, \u001b[38;5;241m*\u001b[39m\u001b[38;5;241m*\u001b[39mkwargs)\n",
      "File \u001b[1;32m~\\miniconda3\\envs\\deeplearning\\lib\\site-packages\\torch\\nn\\modules\\module.py:1750\u001b[0m, in \u001b[0;36mModule._call_impl\u001b[1;34m(self, *args, **kwargs)\u001b[0m\n\u001b[0;32m   1745\u001b[0m \u001b[38;5;66;03m# If we don't have any hooks, we want to skip the rest of the logic in\u001b[39;00m\n\u001b[0;32m   1746\u001b[0m \u001b[38;5;66;03m# this function, and just call forward.\u001b[39;00m\n\u001b[0;32m   1747\u001b[0m \u001b[38;5;28;01mif\u001b[39;00m \u001b[38;5;129;01mnot\u001b[39;00m (\u001b[38;5;28mself\u001b[39m\u001b[38;5;241m.\u001b[39m_backward_hooks \u001b[38;5;129;01mor\u001b[39;00m \u001b[38;5;28mself\u001b[39m\u001b[38;5;241m.\u001b[39m_backward_pre_hooks \u001b[38;5;129;01mor\u001b[39;00m \u001b[38;5;28mself\u001b[39m\u001b[38;5;241m.\u001b[39m_forward_hooks \u001b[38;5;129;01mor\u001b[39;00m \u001b[38;5;28mself\u001b[39m\u001b[38;5;241m.\u001b[39m_forward_pre_hooks\n\u001b[0;32m   1748\u001b[0m         \u001b[38;5;129;01mor\u001b[39;00m _global_backward_pre_hooks \u001b[38;5;129;01mor\u001b[39;00m _global_backward_hooks\n\u001b[0;32m   1749\u001b[0m         \u001b[38;5;129;01mor\u001b[39;00m _global_forward_hooks \u001b[38;5;129;01mor\u001b[39;00m _global_forward_pre_hooks):\n\u001b[1;32m-> 1750\u001b[0m     \u001b[38;5;28;01mreturn\u001b[39;00m forward_call(\u001b[38;5;241m*\u001b[39margs, \u001b[38;5;241m*\u001b[39m\u001b[38;5;241m*\u001b[39mkwargs)\n\u001b[0;32m   1752\u001b[0m result \u001b[38;5;241m=\u001b[39m \u001b[38;5;28;01mNone\u001b[39;00m\n\u001b[0;32m   1753\u001b[0m called_always_called_hooks \u001b[38;5;241m=\u001b[39m \u001b[38;5;28mset\u001b[39m()\n",
      "File \u001b[1;32m~\\miniconda3\\envs\\deeplearning\\lib\\site-packages\\torch\\nn\\modules\\linear.py:125\u001b[0m, in \u001b[0;36mLinear.forward\u001b[1;34m(self, input)\u001b[0m\n\u001b[0;32m    124\u001b[0m \u001b[38;5;28;01mdef\u001b[39;00m\u001b[38;5;250m \u001b[39m\u001b[38;5;21mforward\u001b[39m(\u001b[38;5;28mself\u001b[39m, \u001b[38;5;28minput\u001b[39m: Tensor) \u001b[38;5;241m-\u001b[39m\u001b[38;5;241m>\u001b[39m Tensor:\n\u001b[1;32m--> 125\u001b[0m     \u001b[38;5;28;01mreturn\u001b[39;00m \u001b[43mF\u001b[49m\u001b[38;5;241;43m.\u001b[39;49m\u001b[43mlinear\u001b[49m\u001b[43m(\u001b[49m\u001b[38;5;28;43minput\u001b[39;49m\u001b[43m,\u001b[49m\u001b[43m \u001b[49m\u001b[38;5;28;43mself\u001b[39;49m\u001b[38;5;241;43m.\u001b[39;49m\u001b[43mweight\u001b[49m\u001b[43m,\u001b[49m\u001b[43m \u001b[49m\u001b[38;5;28;43mself\u001b[39;49m\u001b[38;5;241;43m.\u001b[39;49m\u001b[43mbias\u001b[49m\u001b[43m)\u001b[49m\n",
      "\u001b[1;31mRuntimeError\u001b[0m: mat1 and mat2 shapes cannot be multiplied (28x28 and 784x256)"
     ]
    }
   ],
   "source": [
    "# this line will throw an error!\n",
    "probabilities = model.forward(image1)"
   ]
  },
  {
   "cell_type": "code",
   "execution_count": 55,
   "id": "f7295a04-10b5-420d-a12a-d18e80c29633",
   "metadata": {},
   "outputs": [
    {
     "data": {
      "text/plain": [
       "torch.Size([1, 28, 28])"
      ]
     },
     "execution_count": 55,
     "metadata": {},
     "output_type": "execute_result"
    }
   ],
   "source": [
    "# channel * width * height\n",
    "image1.shape"
   ]
  },
  {
   "cell_type": "code",
   "execution_count": 56,
   "id": "45ff4b99-0038-4308-becd-c9083763704c",
   "metadata": {},
   "outputs": [
    {
     "data": {
      "text/plain": [
       "torch.Size([1, 784])"
      ]
     },
     "execution_count": 56,
     "metadata": {},
     "output_type": "execute_result"
    }
   ],
   "source": [
    "# flatten\n",
    "image1.view(1, 784).shape"
   ]
  },
  {
   "cell_type": "code",
   "execution_count": 57,
   "id": "568d19fe-389a-4dc8-aa3b-a1875ec1dfe3",
   "metadata": {},
   "outputs": [
    {
     "data": {
      "text/plain": [
       "torch.Size([1, 784])"
      ]
     },
     "execution_count": 57,
     "metadata": {},
     "output_type": "execute_result"
    }
   ],
   "source": [
    "image1.view(1,-1).shape"
   ]
  },
  {
   "cell_type": "code",
   "execution_count": 58,
   "id": "e17df698-7651-476b-a9ca-5daae7aaa267",
   "metadata": {},
   "outputs": [],
   "source": [
    "probabilities = model.forward(image1.view(1, -1))"
   ]
  },
  {
   "cell_type": "code",
   "execution_count": 59,
   "id": "15336fe8-a4d8-4faf-ab59-163e458086dd",
   "metadata": {},
   "outputs": [
    {
     "data": {
      "text/plain": [
       "tensor([[0.0774, 0.0761, 0.0969, 0.0946, 0.1104, 0.1114, 0.0775, 0.1501, 0.1021,\n",
       "         0.1036]], grad_fn=<SoftmaxBackward0>)"
      ]
     },
     "execution_count": 59,
     "metadata": {},
     "output_type": "execute_result"
    }
   ],
   "source": [
    "probabilities"
   ]
  },
  {
   "cell_type": "code",
   "execution_count": 60,
   "id": "1c70beaf-40ae-437e-a7e3-ec092a82e32f",
   "metadata": {},
   "outputs": [
    {
     "data": {
      "text/plain": [
       "tensor(1., grad_fn=<SumBackward0>)"
      ]
     },
     "execution_count": 60,
     "metadata": {},
     "output_type": "execute_result"
    }
   ],
   "source": [
    "torch.sum(probabilities)"
   ]
  },
  {
   "cell_type": "code",
   "execution_count": 61,
   "id": "c30c7449-0101-4f23-b4a2-5edf5ef3ace3",
   "metadata": {},
   "outputs": [
    {
     "name": "stdout",
     "output_type": "stream",
     "text": [
      "[0.07735186 0.07608602 0.09689108 0.09461571 0.1104497  0.11138169\n",
      " 0.07749537 0.15009895 0.10206656 0.10356306]\n"
     ]
    }
   ],
   "source": [
    "probabilities = probabilities.data.numpy().squeeze()\n",
    "print(probabilities)"
   ]
  },
  {
   "cell_type": "code",
   "execution_count": 62,
   "id": "db8f561c-3a47-462c-a9ca-6f120eb0aa53",
   "metadata": {},
   "outputs": [
    {
     "data": {
      "image/png": "[encoded data removed]",
      "text/plain": [
       "<Figure size 640x480 with 1 Axes>"
      ]
     },
     "metadata": {},
     "output_type": "display_data"
    }
   ],
   "source": [
    "plt.imshow(image1.squeeze(), cmap='Greys_r');"
   ]
  },
  {
   "cell_type": "markdown",
   "id": "9dbf09ea-393c-4c80-9131-d5b7a5c0535f",
   "metadata": {},
   "source": [
    "fig, ax = plt.subplots(figsize=(6, 6))\n",
    "\n",
    "# horizontal bar chart\n",
    "bars = ax.barh(np.arange(10), probabilities)\n",
    "\n",
    "# labels and limits\n",
    "ax.set_yticks(np.arange(10))\n",
    "ax.set_xlim(0, 1.1)\n",
    "ax.set_xlabel(\"Probability\")\n",
    "ax.set_ylabel(\"Digit\")\n",
    "# add text annotations\n",
    "for bar in bars:\n",
    "    width = bar.get_width() # get the bar width (the probability value)\n",
    "    ax.text(\n",
    "        width + 0.02, # position the text slightly to the right of the b\n",
    "        bar.get_y() + bar.get_height() / 2, # center the text vertically\n",
    "        f'{width:.2f}',\n",
    "        va='center'\n",
    "    )\n",
    "plt.show()"
   ]
  },
  {
   "cell_type": "code",
   "execution_count": 65,
   "id": "291a501c-a36d-4a67-804d-9b650a36bc8a",
   "metadata": {},
   "outputs": [],
   "source": [
    "probabilities = model.forward(images.view(64, 784))"
   ]
  },
  {
   "cell_type": "code",
   "execution_count": 66,
   "id": "840a5fc7-f8a7-445b-ab0d-6dbf849980fd",
   "metadata": {},
   "outputs": [
    {
     "data": {
      "text/plain": [
       "torch.Size([64, 10])"
      ]
     },
     "execution_count": 66,
     "metadata": {},
     "output_type": "execute_result"
    }
   ],
   "source": [
    "probabilities.shape"
   ]
  },
  {
   "cell_type": "code",
   "execution_count": 67,
   "id": "b6d490b0-db45-4b79-bae7-bf725015e9ca",
   "metadata": {},
   "outputs": [],
   "source": [
    "probabilities = model.forward(images.view(-1, 28*28))"
   ]
  },
  {
   "cell_type": "code",
   "execution_count": 68,
   "id": "ff99205e-a1e7-4542-b511-a216c70e1b17",
   "metadata": {},
   "outputs": [
    {
     "data": {
      "text/plain": [
       "torch.Size([64, 10])"
      ]
     },
     "execution_count": 68,
     "metadata": {},
     "output_type": "execute_result"
    }
   ],
   "source": [
    "probabilities.shape"
   ]
  },
  {
   "cell_type": "markdown",
   "id": "4f5d2b74-9fdf-468a-a7bf-50c1fca3b80d",
   "metadata": {},
   "source": [
    "\n",
    "\n",
    "# MNIST 분류 신경망 정리\n",
    "\n",
    "## 📌 데이터 및 입력 구조\n",
    "\n",
    "* **데이터셋**: MNIST (손글씨 숫자 0~9)\n",
    "* **이미지 크기**: 28 × 28\n",
    "* **변환 과정**: 2차원(28×28) → 1차원 벡터(784)\n",
    "* **입력 노드 수**: 784개\n",
    "* **출력 노드 수**: 10개 (0~9 클래스)\n",
    "\n",
    "---\n",
    "\n",
    "## 📌 네트워크 구조\n",
    "\n",
    "```\n",
    "입력(784) → (W1, B1) → 시그모이드 → 히든 레이어 → (W2, B2) → 소프트맥스 → 출력(10)\n",
    "```\n",
    "\n",
    "### 1. 히든 레이어: **시그모이드 활성화**\n",
    "\n",
    "* **역할**: 비선형성 부여\n",
    "* **효과**:\n",
    "\n",
    "  * 단순 선형 모델이 아닌 복잡한 패턴 학습 가능\n",
    "  * 출력 값이 (0, 1) 범위 → 확률처럼 해석 가능\n",
    "* ⚠️ 주의: Gradient Vanishing 문제로 요즘은 `ReLU` 계열 활성화 함수를 더 많이 사용\n",
    "\n",
    "### 2. 출력 레이어: **소프트맥스 활성화**\n",
    "\n",
    "* **역할**: 출력 전체를 확률 분포로 변환\n",
    "* **효과**:\n",
    "\n",
    "  * 각 출력 값이 0~1 사이의 실수\n",
    "  * 모든 출력의 합 = 1\n",
    "  * 클래스별 예측 확률로 해석 가능\n",
    "* **활용**: Cross-Entropy Loss와 함께 학습 → 다중 클래스 분류에 적합\n",
    "\n",
    "---\n",
    "\n",
    "## 📌 신경망 빌드 방식 (PyTorch 예시)\n",
    "\n",
    "### 1. 순차적 모델 (Sequential API)\n",
    "\n",
    "\n",
    "### 2. 클래스 상속 방식 (Custom class, nn.Module)\n",
    "\n",
    "\n",
    "### 3. 함수형 API (Functional API)\n",
    "\n",
    "\n",
    "---\n",
    "\n",
    "## ✅ 최종 정리\n",
    "\n",
    "* **시그모이드**: 히든 레이어에서 비선형성 제공 → 복잡한 패턴 학습 가능\n",
    "* **소프트맥스**: 출력 레이어에서 클래스별 확률화 → 다중 클래스 분류 문제 해결\n",
    "* **구현 방법**:\n",
    "\n",
    "  1. `Sequential` (간단한 네트워크)\n",
    "  2. `nn.Module` 상속 (가장 일반적, 유연성 높음)\n",
    "  3. `Functional API` (활성화 함수 직접 호출 → 자유로운 조합 가능)\n",
    "\n",
    "---\n",
    "\n",
    "👉 이 구조는 MNIST 같은 **10-class 분류기**의 기본 예시입니다."
   ]
  }
 ],
 "metadata": {
  "kernelspec": {
   "display_name": "Python 3 (ipykernel)",
   "language": "python",
   "name": "python3"
  },
  "language_info": {
   "codemirror_mode": {
    "name": "ipython",
    "version": 3
   },
   "file_extension": ".py",
   "mimetype": "text/x-python",
   "name": "python",
   "nbconvert_exporter": "python",
   "pygments_lexer": "ipython3",
   "version": "3.10.18"
  }
 },
 "nbformat": 4,
 "nbformat_minor": 5
}
