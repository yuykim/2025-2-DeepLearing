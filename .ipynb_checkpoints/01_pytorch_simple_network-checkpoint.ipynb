{
 "cells": [
  {
   "cell_type": "code",
   "execution_count": 2,
   "id": "3db394ab-b2a5-4844-af38-b66a868ca7ba",
   "metadata": {},
   "outputs": [],
   "source": [
    "import torch"
   ]
  },
  {
   "cell_type": "code",
   "execution_count": 3,
   "id": "16aff470-c214-4cd1-8090-86b06efc3668",
   "metadata": {},
   "outputs": [
    {
     "data": {
      "text/plain": [
       "'2.6.0+cu124'"
      ]
     },
     "execution_count": 3,
     "metadata": {},
     "output_type": "execute_result"
    }
   ],
   "source": [
    "torch.__version__"
   ]
  },
  {
   "cell_type": "code",
   "execution_count": 4,
   "id": "71463b7f-b748-42d5-959e-03db8c3e9748",
   "metadata": {},
   "outputs": [
    {
     "name": "stdout",
     "output_type": "stream",
     "text": [
      "torch: 2.6.0+cu124\n",
      "CUDA available: True\n",
      "GPU: NVIDIA GeForce RTX 4060 Laptop GPU\n",
      "OK: 1124624.625\n"
     ]
    }
   ],
   "source": [
    "import torch\n",
    "print(\"torch:\", torch.__version__)\n",
    "print(\"CUDA available:\", torch.cuda.is_available())\n",
    "if torch.cuda.is_available():\n",
    "    print(\"GPU:\", torch.cuda.get_device_name(0))\n",
    "    x = torch.randn(1024, 1024, device=\"cuda\")\n",
    "    y = x @ x.t()\n",
    "    print(\"OK:\", y.sum().item())"
   ]
  },
  {
   "cell_type": "markdown",
   "id": "e9c29f6c-c8c4-41f2-8898-9d277f114920",
   "metadata": {},
   "source": [
    "---"
   ]
  },
  {
   "cell_type": "code",
   "execution_count": 6,
   "id": "1f790bed-7c39-4d37-ace6-72e0c5ebc671",
   "metadata": {},
   "outputs": [
    {
     "data": {
      "text/plain": [
       "<torch._C.Generator at 0x23652faecb0>"
      ]
     },
     "execution_count": 6,
     "metadata": {},
     "output_type": "execute_result"
    }
   ],
   "source": [
    "torch.manual_seed(316)"
   ]
  },
  {
   "cell_type": "code",
   "execution_count": 7,
   "id": "5afa67d5-56b9-4384-b625-8ab21e9afbd9",
   "metadata": {},
   "outputs": [],
   "source": [
    "features = torch.randn((1,5))"
   ]
  },
  {
   "cell_type": "code",
   "execution_count": 8,
   "id": "a578721e-4f12-431f-82b9-1d61dd775366",
   "metadata": {},
   "outputs": [
    {
     "data": {
      "text/plain": [
       "tensor([[ 1.5730,  0.0812, -2.2865, -2.2991, -2.6735]])"
      ]
     },
     "execution_count": 8,
     "metadata": {},
     "output_type": "execute_result"
    }
   ],
   "source": [
    "features"
   ]
  },
  {
   "cell_type": "code",
   "execution_count": 9,
   "id": "2b16e0c7-f866-415e-a350-29659f975d09",
   "metadata": {},
   "outputs": [
    {
     "data": {
      "text/plain": [
       "torch.Size([1, 5])"
      ]
     },
     "execution_count": 9,
     "metadata": {},
     "output_type": "execute_result"
    }
   ],
   "source": [
    "features.shape"
   ]
  },
  {
   "cell_type": "markdown",
   "id": "e6d349e0-778e-45cb-bda8-df11c6c01656",
   "metadata": {},
   "source": [
    "---"
   ]
  },
  {
   "cell_type": "code",
   "execution_count": 10,
   "id": "40da675b-cee8-4cd8-bb18-6c9b5c8d6a64",
   "metadata": {},
   "outputs": [],
   "source": [
    "weights = torch.randn((1,5))"
   ]
  },
  {
   "cell_type": "code",
   "execution_count": 11,
   "id": "74540ef8-ee95-44e8-99f0-5444e24d4060",
   "metadata": {},
   "outputs": [
    {
     "data": {
      "text/plain": [
       "tensor([[-0.4179, -0.3285, -1.3326,  1.5805,  1.5407]])"
      ]
     },
     "execution_count": 11,
     "metadata": {},
     "output_type": "execute_result"
    }
   ],
   "source": [
    "weights"
   ]
  },
  {
   "cell_type": "code",
   "execution_count": 12,
   "id": "66a2cdf4-2403-41f6-ac9f-4af5b2d43dc4",
   "metadata": {},
   "outputs": [
    {
     "data": {
      "text/plain": [
       "torch.Size([1, 5])"
      ]
     },
     "execution_count": 12,
     "metadata": {},
     "output_type": "execute_result"
    }
   ],
   "source": [
    "weights.shape"
   ]
  },
  {
   "cell_type": "markdown",
   "id": "848f9e38-5ae5-4c54-bef8-0ada72a15f20",
   "metadata": {},
   "source": [
    "---"
   ]
  },
  {
   "cell_type": "code",
   "execution_count": 13,
   "id": "f56f05d2-0bdf-4ab3-ad5c-15313ed05c28",
   "metadata": {},
   "outputs": [],
   "source": [
    "bias=torch.randn((1,1))"
   ]
  },
  {
   "cell_type": "code",
   "execution_count": 14,
   "id": "a5b9dfb5-414a-46a9-a02a-c8d40a0c893d",
   "metadata": {},
   "outputs": [
    {
     "data": {
      "text/plain": [
       "tensor([[0.4439]])"
      ]
     },
     "execution_count": 14,
     "metadata": {},
     "output_type": "execute_result"
    }
   ],
   "source": [
    "bias"
   ]
  },
  {
   "cell_type": "code",
   "execution_count": 15,
   "id": "9624a3ab-fc03-4798-9352-ea86584f80a2",
   "metadata": {},
   "outputs": [
    {
     "data": {
      "text/plain": [
       "torch.Size([1, 1])"
      ]
     },
     "execution_count": 15,
     "metadata": {},
     "output_type": "execute_result"
    }
   ],
   "source": [
    "bias.shape"
   ]
  },
  {
   "cell_type": "markdown",
   "id": "96a5b4e9-8c6f-41a5-a2dc-931340056d25",
   "metadata": {},
   "source": [
    "---"
   ]
  },
  {
   "cell_type": "markdown",
   "id": "999868ac-6c9f-4de6-b0af-eb6d4a41ec6b",
   "metadata": {},
   "source": [
    "## weighted sum"
   ]
  },
  {
   "cell_type": "code",
   "execution_count": 16,
   "id": "bb6ea01c-743a-4f10-a1b3-b87c27daaca3",
   "metadata": {},
   "outputs": [
    {
     "data": {
      "text/plain": [
       "tensor([[-0.6573, -0.0267,  3.0469, -3.6337, -4.1190]])"
      ]
     },
     "execution_count": 16,
     "metadata": {},
     "output_type": "execute_result"
    }
   ],
   "source": [
    "features * weights"
   ]
  },
  {
   "cell_type": "code",
   "execution_count": 17,
   "id": "316bf5a0-501b-4dce-9e2c-f906b1bab57f",
   "metadata": {},
   "outputs": [
    {
     "data": {
      "text/plain": [
       "tensor(-5.3897)"
      ]
     },
     "execution_count": 17,
     "metadata": {},
     "output_type": "execute_result"
    }
   ],
   "source": [
    "torch.sum(features * weights)"
   ]
  },
  {
   "cell_type": "code",
   "execution_count": 19,
   "id": "2952e462-990e-4e83-b30a-bd7522610722",
   "metadata": {},
   "outputs": [],
   "source": [
    "z = torch.sum(features * weights) + bias"
   ]
  },
  {
   "cell_type": "code",
   "execution_count": 20,
   "id": "ec2f5e41-41e8-406a-aaee-37664516035e",
   "metadata": {},
   "outputs": [
    {
     "data": {
      "text/plain": [
       "tensor([[-4.9458]])"
      ]
     },
     "execution_count": 20,
     "metadata": {},
     "output_type": "execute_result"
    }
   ],
   "source": [
    "z"
   ]
  },
  {
   "cell_type": "markdown",
   "id": "0e301f17-4d33-480e-90b3-c4ff9d252c41",
   "metadata": {},
   "source": [
    "---"
   ]
  },
  {
   "cell_type": "markdown",
   "id": "c54cf68d-469f-4187-ac2f-948b958021fb",
   "metadata": {},
   "source": [
    "## matrix mulitiplication"
   ]
  },
  {
   "cell_type": "code",
   "execution_count": 21,
   "id": "ed129ce9-c40f-40e6-b8fb-743375f025a6",
   "metadata": {},
   "outputs": [
    {
     "ename": "RuntimeError",
     "evalue": "mat1 and mat2 shapes cannot be multiplied (1x5 and 1x5)",
     "output_type": "error",
     "traceback": [
      "\u001b[1;31m---------------------------------------------------------------------------\u001b[0m",
      "\u001b[1;31mRuntimeError\u001b[0m                              Traceback (most recent call last)",
      "Cell \u001b[1;32mIn[21], line 1\u001b[0m\n\u001b[1;32m----> 1\u001b[0m \u001b[43mtorch\u001b[49m\u001b[38;5;241;43m.\u001b[39;49m\u001b[43mmm\u001b[49m\u001b[43m(\u001b[49m\u001b[43mfeatures\u001b[49m\u001b[43m,\u001b[49m\u001b[43m \u001b[49m\u001b[43mweights\u001b[49m\u001b[43m)\u001b[49m\n",
      "\u001b[1;31mRuntimeError\u001b[0m: mat1 and mat2 shapes cannot be multiplied (1x5 and 1x5)"
     ]
    }
   ],
   "source": [
    "torch.mm(features, weights)"
   ]
  },
  {
   "cell_type": "code",
   "execution_count": 22,
   "id": "277b1e32-810b-4c46-9fb3-443e6242f38c",
   "metadata": {},
   "outputs": [
    {
     "data": {
      "text/plain": [
       "tensor([[-0.4179],\n",
       "        [-0.3285],\n",
       "        [-1.3326],\n",
       "        [ 1.5805],\n",
       "        [ 1.5407]])"
      ]
     },
     "execution_count": 22,
     "metadata": {},
     "output_type": "execute_result"
    }
   ],
   "source": [
    "weights.T # 잘 안씀, 비효율"
   ]
  },
  {
   "cell_type": "code",
   "execution_count": 25,
   "id": "4cc7d89c-4127-48d3-8c1b-51caebfda329",
   "metadata": {},
   "outputs": [
    {
     "name": "stdout",
     "output_type": "stream",
     "text": [
      "tensor([[-0.4179],\n",
      "        [-0.3285],\n",
      "        [-1.3326],\n",
      "        [ 1.5805],\n",
      "        [ 1.5407]])\n",
      "torch.Size([5, 1])\n"
     ]
    }
   ],
   "source": [
    "print(weights.view(-1,1))\n",
    "print(weights.view(-1,1).shape)"
   ]
  },
  {
   "cell_type": "markdown",
   "id": "a48ff176-0a8b-4a8d-b0c1-59e6ac699abd",
   "metadata": {},
   "source": [
    "---"
   ]
  },
  {
   "cell_type": "code",
   "execution_count": 26,
   "id": "e578898b-1428-44a9-bc63-fdb28325b572",
   "metadata": {},
   "outputs": [
    {
     "data": {
      "text/plain": [
       "tensor([[-5.3897]])"
      ]
     },
     "execution_count": 26,
     "metadata": {},
     "output_type": "execute_result"
    }
   ],
   "source": [
    "torch.mm(features, weights.view(-1,1))"
   ]
  },
  {
   "cell_type": "code",
   "execution_count": 27,
   "id": "5d5af508-05b9-42fb-9e33-82cf5df4859f",
   "metadata": {},
   "outputs": [],
   "source": [
    "z = torch.mm(features, weights.view(-1,1)) + bias"
   ]
  },
  {
   "cell_type": "code",
   "execution_count": 28,
   "id": "2a815477-fb33-4a90-97db-6c0b291e0ba3",
   "metadata": {},
   "outputs": [
    {
     "data": {
      "text/plain": [
       "tensor([[-4.9458]])"
      ]
     },
     "execution_count": 28,
     "metadata": {},
     "output_type": "execute_result"
    }
   ],
   "source": [
    "z"
   ]
  },
  {
   "cell_type": "markdown",
   "id": "383e6a54-b825-46b3-b5da-686c5c95c6b5",
   "metadata": {},
   "source": [
    "---"
   ]
  },
  {
   "cell_type": "markdown",
   "id": "5b809f11-2603-4ba6-a683-aabacb6904af",
   "metadata": {},
   "source": [
    "## Activation"
   ]
  },
  {
   "cell_type": "code",
   "execution_count": 29,
   "id": "99bcec27-d3fd-46d7-aac3-a6a501bdf15c",
   "metadata": {},
   "outputs": [],
   "source": [
    "def sigmoid(x):\n",
    "    return 1/(1+torch.exp(-x))"
   ]
  },
  {
   "cell_type": "code",
   "execution_count": 30,
   "id": "7446d75e-7a22-451e-a554-3c23d235273a",
   "metadata": {},
   "outputs": [],
   "source": [
    "a = sigmoid(z)"
   ]
  },
  {
   "cell_type": "code",
   "execution_count": 31,
   "id": "dd86a13a-66b4-470b-96f6-a5308c566fda",
   "metadata": {},
   "outputs": [
    {
     "data": {
      "text/plain": [
       "tensor([[0.0071]])"
      ]
     },
     "execution_count": 31,
     "metadata": {},
     "output_type": "execute_result"
    }
   ],
   "source": [
    "a"
   ]
  },
  {
   "cell_type": "code",
   "execution_count": 32,
   "id": "7c96d86f-523a-4515-a678-5e2b26d9b99b",
   "metadata": {},
   "outputs": [
    {
     "data": {
      "text/plain": [
       "0.007062825374305248"
      ]
     },
     "execution_count": 32,
     "metadata": {},
     "output_type": "execute_result"
    }
   ],
   "source": [
    "float(a)"
   ]
  },
  {
   "cell_type": "code",
   "execution_count": 33,
   "id": "40f16ce7-4491-4f76-9d5e-bb4594962f72",
   "metadata": {},
   "outputs": [
    {
     "data": {
      "text/plain": [
       "0.007062825374305248"
      ]
     },
     "execution_count": 33,
     "metadata": {},
     "output_type": "execute_result"
    }
   ],
   "source": [
    "a.item()"
   ]
  },
  {
   "cell_type": "markdown",
   "id": "3d2d4af6-b576-450c-8336-f0dad582a531",
   "metadata": {},
   "source": [
    "---"
   ]
  },
  {
   "cell_type": "markdown",
   "id": "9aa98c2a-6a38-444f-94b8-d7cc507b7f87",
   "metadata": {},
   "source": [
    "---"
   ]
  },
  {
   "cell_type": "markdown",
   "id": "76dbbab5-3ef6-4398-a3b0-fa3f79a61b26",
   "metadata": {},
   "source": [
    "## with hidden layer"
   ]
  },
  {
   "cell_type": "code",
   "execution_count": 63,
   "id": "bfbd8900-41cc-4966-bcc0-b3db6a42a706",
   "metadata": {},
   "outputs": [
    {
     "data": {
      "text/plain": [
       "<torch._C.Generator at 0x23652faecb0>"
      ]
     },
     "execution_count": 63,
     "metadata": {},
     "output_type": "execute_result"
    }
   ],
   "source": [
    "torch.manual_seed(318)"
   ]
  },
  {
   "cell_type": "code",
   "execution_count": 64,
   "id": "268e5fad-e834-459e-a117-464c4a1cf429",
   "metadata": {},
   "outputs": [],
   "source": [
    "n_input = 3\n",
    "n_hidden=2\n",
    "n_output=1"
   ]
  },
  {
   "cell_type": "markdown",
   "id": "a6f48f40-71f7-4605-88e5-8f537e80adbe",
   "metadata": {},
   "source": [
    "### Feature"
   ]
  },
  {
   "cell_type": "code",
   "execution_count": 65,
   "id": "5359b0d6-fa60-4ec1-9c5e-2f530335966a",
   "metadata": {},
   "outputs": [],
   "source": [
    "features = torch.randn(1, n_input)"
   ]
  },
  {
   "cell_type": "code",
   "execution_count": 66,
   "id": "76dbb247-75a4-49e3-bb55-e13ff01f910c",
   "metadata": {},
   "outputs": [
    {
     "name": "stdout",
     "output_type": "stream",
     "text": [
      "tensor([[-1.1069, -1.0308,  1.6005]])\n",
      "torch.Size([1, 3])\n"
     ]
    }
   ],
   "source": [
    "print(features)\n",
    "print(features.shape)"
   ]
  },
  {
   "cell_type": "markdown",
   "id": "9f04a0e1-c704-495c-80b2-7b32542fe222",
   "metadata": {},
   "source": [
    "### Weights"
   ]
  },
  {
   "cell_type": "code",
   "execution_count": 67,
   "id": "eec7325a-cd2c-4203-ae19-098ee5c65d20",
   "metadata": {},
   "outputs": [],
   "source": [
    "W1 = torch.randn(n_input, n_hidden)"
   ]
  },
  {
   "cell_type": "code",
   "execution_count": 68,
   "id": "fc7758d0-2853-4e3e-8c80-530274110b27",
   "metadata": {},
   "outputs": [
    {
     "name": "stdout",
     "output_type": "stream",
     "text": [
      "tensor([[-1.4133, -1.5084],\n",
      "        [-1.8982, -0.3882],\n",
      "        [-0.5675, -1.1959]])\n",
      "torch.Size([3, 2])\n"
     ]
    }
   ],
   "source": [
    "print(W1)\n",
    "print(W1.shape)"
   ]
  },
  {
   "cell_type": "code",
   "execution_count": 69,
   "id": "c3a668d3-df8a-4a79-912d-497aad0dd20c",
   "metadata": {},
   "outputs": [
    {
     "data": {
      "text/plain": [
       "6"
      ]
     },
     "execution_count": 69,
     "metadata": {},
     "output_type": "execute_result"
    }
   ],
   "source": [
    "# number of element\n",
    "W1.numel()"
   ]
  },
  {
   "cell_type": "code",
   "execution_count": 70,
   "id": "9cb975b8-8a6c-44d7-82e7-404b29c49822",
   "metadata": {},
   "outputs": [],
   "source": [
    "W2 = torch.randn(n_hidden, n_output)"
   ]
  },
  {
   "cell_type": "code",
   "execution_count": 71,
   "id": "be295daf-cab5-4a72-8808-b3e7fea47f45",
   "metadata": {},
   "outputs": [
    {
     "name": "stdout",
     "output_type": "stream",
     "text": [
      "tensor([[-0.8328],\n",
      "        [-0.5913]])\n",
      "torch.Size([2, 1])\n"
     ]
    }
   ],
   "source": [
    "print(W2)\n",
    "print(W2.shape)"
   ]
  },
  {
   "cell_type": "code",
   "execution_count": 72,
   "id": "7f544688-7a1b-43ce-8d7e-61192a715e54",
   "metadata": {},
   "outputs": [
    {
     "data": {
      "text/plain": [
       "2"
      ]
     },
     "execution_count": 72,
     "metadata": {},
     "output_type": "execute_result"
    }
   ],
   "source": [
    "W2.numel()"
   ]
  },
  {
   "cell_type": "markdown",
   "id": "6c7afbc9-c0ae-4577-9eb1-77bbd68db2af",
   "metadata": {},
   "source": [
    "### Bias"
   ]
  },
  {
   "cell_type": "code",
   "execution_count": 73,
   "id": "8de2f23d-c350-415a-b9b9-91ae6d3d3050",
   "metadata": {},
   "outputs": [],
   "source": [
    "B1 = torch.randn((1, n_hidden))\n",
    "B2 = torch.randn((1, n_output))"
   ]
  },
  {
   "cell_type": "code",
   "execution_count": 74,
   "id": "85cf5757-2897-412a-9878-e48a90ea2b0d",
   "metadata": {},
   "outputs": [
    {
     "name": "stdout",
     "output_type": "stream",
     "text": [
      "tensor([[ 0.2756, -0.8890]])\n",
      "torch.Size([1, 2])\n",
      "tensor([[0.9305]])\n",
      "torch.Size([1, 1])\n"
     ]
    }
   ],
   "source": [
    "print(B1)\n",
    "print(B1.shape)\n",
    "print(B2)\n",
    "print(B2.shape)"
   ]
  },
  {
   "cell_type": "code",
   "execution_count": 75,
   "id": "8c8ef370-65db-4e4d-8b22-b17a099e6094",
   "metadata": {},
   "outputs": [
    {
     "data": {
      "text/plain": [
       "2"
      ]
     },
     "execution_count": 75,
     "metadata": {},
     "output_type": "execute_result"
    }
   ],
   "source": [
    "B1.numel()"
   ]
  },
  {
   "cell_type": "code",
   "execution_count": 76,
   "id": "4bde143b-1151-4f90-bed8-569ef79bbd6d",
   "metadata": {},
   "outputs": [
    {
     "data": {
      "text/plain": [
       "1"
      ]
     },
     "execution_count": 76,
     "metadata": {},
     "output_type": "execute_result"
    }
   ],
   "source": [
    "B2.numel()"
   ]
  },
  {
   "cell_type": "markdown",
   "id": "3b656151-785e-41ee-8f59-aa267d6898e7",
   "metadata": {},
   "source": [
    "## weighted sum / Activation Output"
   ]
  },
  {
   "cell_type": "code",
   "execution_count": 77,
   "id": "be66f8e9-fe40-476d-882b-2acbbdc1346a",
   "metadata": {},
   "outputs": [],
   "source": [
    "Z1 = torch.mm(features, W1) + B1"
   ]
  },
  {
   "cell_type": "code",
   "execution_count": 78,
   "id": "3d2c399f-074f-47af-9116-88b9f3db74f0",
   "metadata": {},
   "outputs": [
    {
     "name": "stdout",
     "output_type": "stream",
     "text": [
      "tensor([[ 2.8885, -0.7332]])\n",
      "torch.Size([1, 2])\n"
     ]
    }
   ],
   "source": [
    "print(Z1)\n",
    "print(Z1.shape)"
   ]
  },
  {
   "cell_type": "code",
   "execution_count": 79,
   "id": "d62dc444-24f4-4ac1-bbb5-ab93a04a523f",
   "metadata": {},
   "outputs": [],
   "source": [
    "A1 = sigmoid(Z1)"
   ]
  },
  {
   "cell_type": "code",
   "execution_count": 80,
   "id": "27c7e3c2-fc01-475b-92d2-317c80ecc924",
   "metadata": {},
   "outputs": [
    {
     "name": "stdout",
     "output_type": "stream",
     "text": [
      "tensor([[0.9473, 0.3245]])\n",
      "torch.Size([1, 2])\n"
     ]
    }
   ],
   "source": [
    "print(A1)\n",
    "print(A1.shape)"
   ]
  },
  {
   "cell_type": "markdown",
   "id": "da6716ba-ff5f-48c0-9219-2363257f2ae7",
   "metadata": {},
   "source": [
    "### Output layer"
   ]
  },
  {
   "cell_type": "code",
   "execution_count": 81,
   "id": "12bb109a-937b-45ef-922f-fc60e9039f06",
   "metadata": {},
   "outputs": [],
   "source": [
    "Z2 = torch.mm(A1, W2) + B2"
   ]
  },
  {
   "cell_type": "code",
   "execution_count": 82,
   "id": "304229f2-0528-494d-a2e3-7e15ffc6ed28",
   "metadata": {},
   "outputs": [
    {
     "name": "stdout",
     "output_type": "stream",
     "text": [
      "tensor([[-0.0503]])\n",
      "torch.Size([1, 1])\n"
     ]
    }
   ],
   "source": [
    "print(Z2)\n",
    "print(Z2.shape)"
   ]
  },
  {
   "cell_type": "code",
   "execution_count": 83,
   "id": "b97658a7-0370-4f78-b52a-4ab97530ba3d",
   "metadata": {},
   "outputs": [],
   "source": [
    "A2 = sigmoid(Z2)"
   ]
  },
  {
   "cell_type": "code",
   "execution_count": 84,
   "id": "3721d604-ccff-4638-b8cd-1a7cc6745123",
   "metadata": {},
   "outputs": [
    {
     "name": "stdout",
     "output_type": "stream",
     "text": [
      "tensor([[0.4874]])\n",
      "torch.Size([1, 1])\n"
     ]
    }
   ],
   "source": [
    "print(A2)\n",
    "print(A2.shape)"
   ]
  },
  {
   "cell_type": "code",
   "execution_count": 85,
   "id": "343a28b6-921c-4833-80d4-54cfcb9a2ff3",
   "metadata": {},
   "outputs": [
    {
     "data": {
      "text/plain": [
       "1"
      ]
     },
     "execution_count": 85,
     "metadata": {},
     "output_type": "execute_result"
    }
   ],
   "source": [
    "A2.numel()"
   ]
  },
  {
   "cell_type": "code",
   "execution_count": 86,
   "id": "fdf450b1-1271-4550-91aa-45568f7ff3fe",
   "metadata": {},
   "outputs": [],
   "source": [
    "y_hat = A2.item()"
   ]
  },
  {
   "cell_type": "code",
   "execution_count": 87,
   "id": "060317ec-84d3-4702-bac2-9794ab9ccf87",
   "metadata": {},
   "outputs": [
    {
     "name": "stdout",
     "output_type": "stream",
     "text": [
      "0.4874347746372223\n"
     ]
    }
   ],
   "source": [
    "print(y_hat)"
   ]
  }
 ],
 "metadata": {
  "kernelspec": {
   "display_name": "Python 3 (ipykernel)",
   "language": "python",
   "name": "python3"
  },
  "language_info": {
   "codemirror_mode": {
    "name": "ipython",
    "version": 3
   },
   "file_extension": ".py",
   "mimetype": "text/x-python",
   "name": "python",
   "nbconvert_exporter": "python",
   "pygments_lexer": "ipython3",
   "version": "3.10.18"
  }
 },
 "nbformat": 4,
 "nbformat_minor": 5
}
